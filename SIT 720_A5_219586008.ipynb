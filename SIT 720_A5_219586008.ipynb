{
 "cells": [
  {
   "cell_type": "code",
   "execution_count": 2,
   "metadata": {},
   "outputs": [],
   "source": [
    "import pandas as pd\n",
    "import numpy as np\n",
    "import math\n",
    "from math import sqrt\n",
    "import random\n",
    "from tqdm import tqdm\n",
    "\n",
    "from sklearn.model_selection import train_test_split\n",
    "\n",
    "from sklearn.model_selection import GridSearchCV\n",
    "from sklearn.svm import SVC\n",
    "from sklearn.ensemble import RandomForestClassifier\n",
    "from sklearn.tree import DecisionTreeClassifier\n",
    "import xgboost as xgb\n",
    "from xgboost import XGBClassifier\n",
    "from sklearn.linear_model import LinearRegression\n",
    "from mlxtend.classifier import OneRClassifier\n",
    "from sklearn.naive_bayes import GaussianNB\n",
    "from sklearn import svm\n",
    "from sklearn.neighbors import KNeighborsClassifier\n",
    "import keras as kr\n",
    "from keras.models import Sequential\n",
    "from keras.layers import Dense\n",
    "from sklearn.svm import SVR\n",
    "\n",
    "from mlxtend.feature_selection import SequentialFeatureSelector as SFS\n",
    "from mlxtend.feature_selection import ExhaustiveFeatureSelector as EFS\n",
    "\n",
    "from mlxtend.plotting import plot_sequential_feature_selection as plot_sfs\n",
    "from sklearn.decomposition import PCA\n",
    "from sklearn.linear_model import LogisticRegression\n",
    "from sklearn.model_selection import *\n",
    "from sklearn.linear_model import SGDClassifier\n",
    "from sklearn.decomposition import PCA\n",
    "\n",
    "from sklearn import metrics\n",
    "from sklearn.metrics import make_scorer\n",
    "from sklearn.metrics import matthews_corrcoef\n",
    "from sklearn.metrics import f1_score\n",
    "from sklearn.metrics import accuracy_score\n",
    "from sklearn.metrics import confusion_matrix\n",
    "from sklearn.metrics import average_precision_score\n",
    "from sklearn.metrics import roc_auc_score\n",
    "from sklearn.metrics import mean_squared_error\n",
    "\n",
    "from sklearn.preprocessing import StandardScaler\n",
    "from sklearn.preprocessing import MinMaxScaler\n",
    "\n",
    "import warnings\n",
    "warnings.filterwarnings('ignore')"
   ]
  },
  {
   "cell_type": "markdown",
   "metadata": {},
   "source": [
    "## Q1. Read the article and reproduce the results presented in Table(4) using Python modules and packages. Write a report summarising the dataset, used ML methods, experiment protocol and results including variations, if any. "
   ]
  },
  {
   "cell_type": "markdown",
   "metadata": {},
   "source": [
    "__Dataset__\n",
    "* The Dataset is comprised of 13 clinical features.\n",
    "* The researchers are trying to select the best classifier to predict the Death Event (target variable).\n",
    "\n",
    "__Data Pre-processing__ \n",
    "* The data is imported as it is.\n",
    "* The researchers drop the ‘time’ column from the dataset.\n",
    "* The researchers then sort the columns so that the target variable is located the furthest far right column   \n",
    "\n",
    "__Models__\n",
    "\n",
    "The researchers selected the following models:\n",
    "* Random Forest \n",
    "* Decision Tree \n",
    "* Gradient boosting : XGBoost\n",
    "* Linear regression \n",
    "* One rule \n",
    "* Artificial neural network\n",
    "* Naïve bayes \n",
    "* SVM radial \n",
    "* SVM linear\n",
    "* k-nearest neighbours.\n",
    "\n",
    "__Train/Test Split Stratergy__\n",
    "\n",
    "The researchers utilised the following train/test split strategy for the machine learning models:\n",
    "\n",
    "* 6:4 – applied to (Neural network, Support Vector Machine, and k-Nearest Neighbours), \n",
    "    * 60% for the training set. \n",
    "    *  20% for the validation set. \n",
    "    *  20% for the test set.\n",
    "* 8:2 - applied to (Random Forests, One Rule, Linear Regression, Naïve Bayes, and Decision Tree)\n",
    "    * 80%  for the training set, \n",
    "    * 20%  for the test set.\n",
    "\n",
    "__Hyperparameters__ \n",
    "\n",
    "The researchers decided to pick the following models that require hyperparameters: \n",
    "* Artificial neural network \n",
    "* SVM radial\n",
    "* SVM linear \n",
    "* k-nearest neighbours\n",
    "\n",
    "The researchers used the Grid Search method to find hyperparameters based on precision for the following parameters. They shuffled the data rows once before splitting the data based on the train/test split strategy and the test the below ML models for the best hyperparameters.\n",
    "\n",
    "* Artificial neural network - Hyper Parameters: 1 Hidden layer, 100 hidden units \n",
    "* SVM radial - Hyper Parameters: Support Vector Machine with radial Gaussian kernel, C = 10\n",
    "* SVM linear - Hyper Parameters: Support Vector Machine with linear kernel, C = 0.1\n",
    "* k-nearest neighbours - Hyper Parameters: K = 3\n",
    "\n",
    "__Evaluation Metric__\n",
    "\n",
    "The researchers utilised the follow metrics to evaluate the machine learning models:\n",
    "* MCC: Matthews correlation coefficient. Threshold rate for the metric: τ = 0.5\n",
    "* F1: Harmonic Mean. Threshold rate for the metric: τ = 0.5\n",
    "*  Accuracy. Threshold rate for the metric: τ = 0.5\n",
    "*  TP:  true positive rate (sensitivity, recall). Threshold rate for the above metric: τ = 0.5 \n",
    "*  TN:  true negative rate (specificity).  Threshold rate for the above metric: τ = 0.5\n",
    "* PR AUC\n",
    "*  ROC AUC\n",
    "\n",
    "__Model Strategy__\n",
    "\n",
    "The researchers used the following method to test their models:\n",
    "\n",
    "* The follow steps were encompassed inside a loop that ran 100 times\n",
    "    * Loop Begins\n",
    "        * They randomly shuffled the rows of the data set once before splitting the data.\n",
    "        * They split the data based on what model they used, 8:2 or 6:4\n",
    "        * They built, fit and used the selected model to make a prediction.\n",
    "        * From that prediction they calculated the evaluation metrics.\n",
    "    * Loop Ends\n",
    "\n",
    "After looping 100 times, the evaluation metrics (100, one for each run of the loop) are collated and the average of each metric category is calculated and returned. The researchers then compared the mean metric result of each model loop and evaluated which model performed the best for each category.\n",
    "\n",
    "__My Results__\n",
    "\n",
    "|Model|MCC|F1 score|Accuracy|TP rate|TN rate|PR AUC|ROC AUC|\n",
    "|---|---|---|---|---|---|---|---|\n",
    "|Random Forest|0.362|0.529|0.731|0.471|0.862|0.475|0.666|\n",
    "|Gradient Boosting|0.341|0.527|0.721|0.506|0.823|0.45|0.665|\n",
    "|Linear Regression|0.353|0.736|0.736|0.394|0.904|0.47|0.653|\n",
    "|Decision Tree|0.271|0.5|0.68|0.515|0.757|0.416|0.636|\n",
    "|Naïve Bayes|0.245|0.336|0.707|0.239|0.934|0.404|0.586|\n",
    "|One rule|0.192|0.043|0.655|0.026|0.95|0.322|0.488|\n",
    "|SVM Radial|0.045|0.002|0.672|0.001|0.993|0.323|0.497|\n",
    "|SVM Linear|0.038|0.676|0.676|0.27|0.989|0.318|0.498|\n",
    "|K-nearest Neighbours|0.007|0.188|0.63|0.14|0.864|0.325|0.502|\n",
    "|Artificial Neural Network|0.0|0.669|0.669|0.01|0.99|0.341|0.506|\n",
    "\n",
    "\n",
    "__Variations__\n",
    "* The sklearn threshold is always set at t = 5, there was no need to define it in my model.\n",
    "\tOf course, since my shuffle mechanism is random and so is the article’s method for dataset splitting, my results will vary based on the rows selected.\n",
    "*\tThe Grid Search algo crashes my kernel, I am unable to execute the kernel with the grid search. I have used the provided hyperparameters from the article for the machine learning models that require them. I separated the grid search for hyperparameters into it’s own cell.  \n",
    "\n"
   ]
  },
  {
   "cell_type": "code",
   "execution_count": 3,
   "metadata": {},
   "outputs": [],
   "source": [
    "# Import the data.\n",
    "base=pd.read_csv (r\"C:\\Users\\shane\\Desktop\\Study\\University\\T2 2021\\SIT720 Assignments\\A5\\heart_failure_clinical_records_dataset.csv\")"
   ]
  },
  {
   "cell_type": "code",
   "execution_count": 4,
   "metadata": {},
   "outputs": [],
   "source": [
    "# Drop 'Time' column.\n",
    "base = base.drop('time',axis=1)"
   ]
  },
  {
   "cell_type": "code",
   "execution_count": 5,
   "metadata": {},
   "outputs": [
    {
     "data": {
      "text/html": [
       "<div>\n",
       "<style scoped>\n",
       "    .dataframe tbody tr th:only-of-type {\n",
       "        vertical-align: middle;\n",
       "    }\n",
       "\n",
       "    .dataframe tbody tr th {\n",
       "        vertical-align: top;\n",
       "    }\n",
       "\n",
       "    .dataframe thead th {\n",
       "        text-align: right;\n",
       "    }\n",
       "</style>\n",
       "<table border=\"1\" class=\"dataframe\">\n",
       "  <thead>\n",
       "    <tr style=\"text-align: right;\">\n",
       "      <th></th>\n",
       "      <th>sex</th>\n",
       "      <th>smoking</th>\n",
       "      <th>diabetes</th>\n",
       "      <th>high_blood_pressure</th>\n",
       "      <th>anaemia</th>\n",
       "      <th>age</th>\n",
       "      <th>ejection_fraction</th>\n",
       "      <th>serum_sodium</th>\n",
       "      <th>serum_creatinine</th>\n",
       "      <th>platelets</th>\n",
       "      <th>creatinine_phosphokinase</th>\n",
       "      <th>DEATH_EVENT</th>\n",
       "    </tr>\n",
       "  </thead>\n",
       "  <tbody>\n",
       "    <tr>\n",
       "      <th>0</th>\n",
       "      <td>1</td>\n",
       "      <td>0</td>\n",
       "      <td>0</td>\n",
       "      <td>1</td>\n",
       "      <td>0</td>\n",
       "      <td>75.0</td>\n",
       "      <td>20</td>\n",
       "      <td>130</td>\n",
       "      <td>1.9</td>\n",
       "      <td>265000.00</td>\n",
       "      <td>582</td>\n",
       "      <td>1</td>\n",
       "    </tr>\n",
       "    <tr>\n",
       "      <th>1</th>\n",
       "      <td>1</td>\n",
       "      <td>0</td>\n",
       "      <td>0</td>\n",
       "      <td>0</td>\n",
       "      <td>0</td>\n",
       "      <td>55.0</td>\n",
       "      <td>38</td>\n",
       "      <td>136</td>\n",
       "      <td>1.1</td>\n",
       "      <td>263358.03</td>\n",
       "      <td>7861</td>\n",
       "      <td>1</td>\n",
       "    </tr>\n",
       "    <tr>\n",
       "      <th>2</th>\n",
       "      <td>1</td>\n",
       "      <td>1</td>\n",
       "      <td>0</td>\n",
       "      <td>0</td>\n",
       "      <td>0</td>\n",
       "      <td>65.0</td>\n",
       "      <td>20</td>\n",
       "      <td>129</td>\n",
       "      <td>1.3</td>\n",
       "      <td>162000.00</td>\n",
       "      <td>146</td>\n",
       "      <td>1</td>\n",
       "    </tr>\n",
       "    <tr>\n",
       "      <th>3</th>\n",
       "      <td>1</td>\n",
       "      <td>0</td>\n",
       "      <td>0</td>\n",
       "      <td>0</td>\n",
       "      <td>1</td>\n",
       "      <td>50.0</td>\n",
       "      <td>20</td>\n",
       "      <td>137</td>\n",
       "      <td>1.9</td>\n",
       "      <td>210000.00</td>\n",
       "      <td>111</td>\n",
       "      <td>1</td>\n",
       "    </tr>\n",
       "    <tr>\n",
       "      <th>4</th>\n",
       "      <td>0</td>\n",
       "      <td>0</td>\n",
       "      <td>1</td>\n",
       "      <td>0</td>\n",
       "      <td>1</td>\n",
       "      <td>65.0</td>\n",
       "      <td>20</td>\n",
       "      <td>116</td>\n",
       "      <td>2.7</td>\n",
       "      <td>327000.00</td>\n",
       "      <td>160</td>\n",
       "      <td>1</td>\n",
       "    </tr>\n",
       "    <tr>\n",
       "      <th>...</th>\n",
       "      <td>...</td>\n",
       "      <td>...</td>\n",
       "      <td>...</td>\n",
       "      <td>...</td>\n",
       "      <td>...</td>\n",
       "      <td>...</td>\n",
       "      <td>...</td>\n",
       "      <td>...</td>\n",
       "      <td>...</td>\n",
       "      <td>...</td>\n",
       "      <td>...</td>\n",
       "      <td>...</td>\n",
       "    </tr>\n",
       "    <tr>\n",
       "      <th>294</th>\n",
       "      <td>1</td>\n",
       "      <td>1</td>\n",
       "      <td>1</td>\n",
       "      <td>1</td>\n",
       "      <td>0</td>\n",
       "      <td>62.0</td>\n",
       "      <td>38</td>\n",
       "      <td>143</td>\n",
       "      <td>1.1</td>\n",
       "      <td>155000.00</td>\n",
       "      <td>61</td>\n",
       "      <td>0</td>\n",
       "    </tr>\n",
       "    <tr>\n",
       "      <th>295</th>\n",
       "      <td>0</td>\n",
       "      <td>0</td>\n",
       "      <td>0</td>\n",
       "      <td>0</td>\n",
       "      <td>0</td>\n",
       "      <td>55.0</td>\n",
       "      <td>38</td>\n",
       "      <td>139</td>\n",
       "      <td>1.2</td>\n",
       "      <td>270000.00</td>\n",
       "      <td>1820</td>\n",
       "      <td>0</td>\n",
       "    </tr>\n",
       "    <tr>\n",
       "      <th>296</th>\n",
       "      <td>0</td>\n",
       "      <td>0</td>\n",
       "      <td>1</td>\n",
       "      <td>0</td>\n",
       "      <td>0</td>\n",
       "      <td>45.0</td>\n",
       "      <td>60</td>\n",
       "      <td>138</td>\n",
       "      <td>0.8</td>\n",
       "      <td>742000.00</td>\n",
       "      <td>2060</td>\n",
       "      <td>0</td>\n",
       "    </tr>\n",
       "    <tr>\n",
       "      <th>297</th>\n",
       "      <td>1</td>\n",
       "      <td>1</td>\n",
       "      <td>0</td>\n",
       "      <td>0</td>\n",
       "      <td>0</td>\n",
       "      <td>45.0</td>\n",
       "      <td>38</td>\n",
       "      <td>140</td>\n",
       "      <td>1.4</td>\n",
       "      <td>140000.00</td>\n",
       "      <td>2413</td>\n",
       "      <td>0</td>\n",
       "    </tr>\n",
       "    <tr>\n",
       "      <th>298</th>\n",
       "      <td>1</td>\n",
       "      <td>1</td>\n",
       "      <td>0</td>\n",
       "      <td>0</td>\n",
       "      <td>0</td>\n",
       "      <td>50.0</td>\n",
       "      <td>45</td>\n",
       "      <td>136</td>\n",
       "      <td>1.6</td>\n",
       "      <td>395000.00</td>\n",
       "      <td>196</td>\n",
       "      <td>0</td>\n",
       "    </tr>\n",
       "  </tbody>\n",
       "</table>\n",
       "<p>299 rows × 12 columns</p>\n",
       "</div>"
      ],
      "text/plain": [
       "     sex  smoking  diabetes  high_blood_pressure  anaemia   age  \\\n",
       "0      1        0         0                    1        0  75.0   \n",
       "1      1        0         0                    0        0  55.0   \n",
       "2      1        1         0                    0        0  65.0   \n",
       "3      1        0         0                    0        1  50.0   \n",
       "4      0        0         1                    0        1  65.0   \n",
       "..   ...      ...       ...                  ...      ...   ...   \n",
       "294    1        1         1                    1        0  62.0   \n",
       "295    0        0         0                    0        0  55.0   \n",
       "296    0        0         1                    0        0  45.0   \n",
       "297    1        1         0                    0        0  45.0   \n",
       "298    1        1         0                    0        0  50.0   \n",
       "\n",
       "     ejection_fraction  serum_sodium  serum_creatinine  platelets  \\\n",
       "0                   20           130               1.9  265000.00   \n",
       "1                   38           136               1.1  263358.03   \n",
       "2                   20           129               1.3  162000.00   \n",
       "3                   20           137               1.9  210000.00   \n",
       "4                   20           116               2.7  327000.00   \n",
       "..                 ...           ...               ...        ...   \n",
       "294                 38           143               1.1  155000.00   \n",
       "295                 38           139               1.2  270000.00   \n",
       "296                 60           138               0.8  742000.00   \n",
       "297                 38           140               1.4  140000.00   \n",
       "298                 45           136               1.6  395000.00   \n",
       "\n",
       "     creatinine_phosphokinase  DEATH_EVENT  \n",
       "0                         582            1  \n",
       "1                        7861            1  \n",
       "2                         146            1  \n",
       "3                         111            1  \n",
       "4                         160            1  \n",
       "..                        ...          ...  \n",
       "294                        61            0  \n",
       "295                      1820            0  \n",
       "296                      2060            0  \n",
       "297                      2413            0  \n",
       "298                       196            0  \n",
       "\n",
       "[299 rows x 12 columns]"
      ]
     },
     "execution_count": 5,
     "metadata": {},
     "output_type": "execute_result"
    }
   ],
   "source": [
    "# Rearrange columns to match Github example. \n",
    "df = base[['sex','smoking','diabetes','high_blood_pressure','anaemia','age','ejection_fraction','serum_sodium','serum_creatinine','platelets','creatinine_phosphokinase','DEATH_EVENT']]\n",
    "df"
   ]
  },
  {
   "cell_type": "code",
   "execution_count": 6,
   "metadata": {},
   "outputs": [
    {
     "name": "stdout",
     "output_type": "stream",
     "text": [
      "{'C': 10, 'kernel': 'linear'}\n"
     ]
    },
    {
     "name": "stderr",
     "output_type": "stream",
     "text": [
      "0it [00:00, ?it/s]\n"
     ]
    },
    {
     "name": "stdout",
     "output_type": "stream",
     "text": [
      "{'C': 0.001, 'kernel': 'rbf'}\n"
     ]
    },
    {
     "name": "stderr",
     "output_type": "stream",
     "text": [
      "0it [00:00, ?it/s]\n"
     ]
    },
    {
     "name": "stdout",
     "output_type": "stream",
     "text": [
      "{'n_neighbors': 3}\n"
     ]
    }
   ],
   "source": [
    "shuffle = df.sample(frac=1)\n",
    "x = shuffle[['sex','smoking','diabetes','high_blood_pressure','anaemia','age','ejection_fraction','serum_sodium','serum_creatinine','platelets','creatinine_phosphokinase']]\n",
    "y = shuffle[['DEATH_EVENT']]\n",
    "# train and test split the dataframe based on 6/4 split\n",
    "x_train, x_test, y_train, y_test = train_test_split(x, y, test_size=0.4)\n",
    "y_train=np.ravel(y_train)\n",
    "# Set the parameters by cross-validation\n",
    "Lparameters = [{'kernel': ['linear'], 'C': [0.001,0.01,0.1,1,10]}]\n",
    "Rparameters = [{'kernel': ['rbf'], 'C': [0.001,0.01,0.1,1,10]}]\n",
    "Kparameters = [{'n_neighbors' : [3,5,7]}]\n",
    "\n",
    "# Run the Grid Searches to return best parameters for models.\n",
    "lgs = GridSearchCV(SVC(), Lparameters, scoring=\"accuracy\")\n",
    "lgs.fit(x_train, y_train)\n",
    "print(lgs.best_params_)\n",
    "\n",
    "rgs = GridSearchCV(SVR(), Rparameters, scoring=\"accuracy\")\n",
    "tqdm(rgs.fit(x_train, y_train.round()))\n",
    "print(rgs.best_params_)\n",
    "\n",
    "kgs = GridSearchCV(KNeighborsClassifier(), Kparameters, scoring=\"accuracy\")\n",
    "tqdm(kgs.fit(x_train, y_train))\n",
    "print(kgs.best_params_)"
   ]
  },
  {
   "cell_type": "code",
   "execution_count": 7,
   "metadata": {},
   "outputs": [],
   "source": [
    "# MCC Calc to deal with double scaler error.\n",
    "def mcc(tp, fp, tn, fn):\n",
    "\n",
    "    # https://stackoverflow.com/a/56875660/992687\n",
    "    mc = (tp + fp) * (tp + fn) * (tn + fp) * (tn + fn)\n",
    "    if mc == 0:\n",
    "        mc = 1\n",
    "    return ((tp * tn) - (fp * fn)) / sqrt(mc)"
   ]
  },
  {
   "cell_type": "code",
   "execution_count": 8,
   "metadata": {},
   "outputs": [
    {
     "name": "stderr",
     "output_type": "stream",
     "text": [
      "100%|████████████████████████████████████████████████████████████████████████████████| 100/100 [00:13<00:00,  7.71it/s]\n"
     ]
    },
    {
     "data": {
      "text/html": [
       "<div>\n",
       "<style scoped>\n",
       "    .dataframe tbody tr th:only-of-type {\n",
       "        vertical-align: middle;\n",
       "    }\n",
       "\n",
       "    .dataframe tbody tr th {\n",
       "        vertical-align: top;\n",
       "    }\n",
       "\n",
       "    .dataframe thead th {\n",
       "        text-align: right;\n",
       "    }\n",
       "</style>\n",
       "<table border=\"1\" class=\"dataframe\">\n",
       "  <thead>\n",
       "    <tr style=\"text-align: right;\">\n",
       "      <th></th>\n",
       "      <th>MCC</th>\n",
       "      <th>F1 score</th>\n",
       "      <th>Accuracy</th>\n",
       "      <th>TP rate</th>\n",
       "      <th>TN rate</th>\n",
       "      <th>PR AUC</th>\n",
       "      <th>ROC AUC</th>\n",
       "    </tr>\n",
       "  </thead>\n",
       "  <tbody>\n",
       "    <tr>\n",
       "      <th>Random forest</th>\n",
       "      <td>0.362</td>\n",
       "      <td>0.529</td>\n",
       "      <td>0.731</td>\n",
       "      <td>0.471</td>\n",
       "      <td>0.862</td>\n",
       "      <td>0.475</td>\n",
       "      <td>0.666</td>\n",
       "    </tr>\n",
       "  </tbody>\n",
       "</table>\n",
       "</div>"
      ],
      "text/plain": [
       "                 MCC  F1 score  Accuracy  TP rate  TN rate  PR AUC  ROC AUC\n",
       "Random forest  0.362     0.529     0.731    0.471    0.862   0.475    0.666"
      ]
     },
     "execution_count": 8,
     "metadata": {},
     "output_type": "execute_result"
    }
   ],
   "source": [
    "# 80 / 20 Model: RANDOM FOREST\n",
    "# Declare array for metrics\n",
    "RFarray = np.empty([0,7],int)\n",
    "\n",
    "# Run a loop 100 times\n",
    "for i in tqdm(range(100)):\n",
    "    # Shuffle the dataframe \n",
    "    shuffle1 = df.sample(frac=1)\n",
    "    x1 = shuffle1[['sex','smoking','diabetes','high_blood_pressure','anaemia','age','ejection_fraction','serum_sodium','serum_creatinine','platelets','creatinine_phosphokinase']]\n",
    "    y1 = shuffle1['DEATH_EVENT']\n",
    "    # train and test split the dataframe based on 8/2 split\n",
    "    x_train1, x_test1, y_train1, y_test1 = train_test_split(x1, y1, test_size=0.2)\n",
    "    # run model and get prediction variable\n",
    "    rfc=RandomForestClassifier()\n",
    "    rfc.fit(x_train1,y_train1)\n",
    "    y_pred1=rfc.predict(x_test1)\n",
    "    # return metrics on each prediction \n",
    "    m1 = matthews_corrcoef(y_test1, y_pred1)\n",
    "    m2 = f1_score(y_test1, y_pred1)\n",
    "    m3 = accuracy_score(y_test1, y_pred1)\n",
    "    c1 = confusion_matrix(y_test1, y_pred1)\n",
    "    m4 = TP1 = c1[1][1] / (c1[1][1]+c1[1][0])\n",
    "    m5 = TN1 = c1[0][0] / (c1[0][0]+c1[0][1])\n",
    "    m6 = average_precision_score(y_test1, y_pred1)\n",
    "    m7 = roc_auc_score(y_test1,y_pred1)\n",
    "    # populate metrics into dataframe\n",
    "    RFarray = np.append(RFarray,np.array([[m1,m2,m3,m4,m5,m6,m7]]), axis=0)\n",
    "\n",
    "# Calculate the mean values of our result array\n",
    "MLmodel1 = pd.DataFrame(RFarray)\n",
    "MLmodel1.columns = ['MCC','F1 score','Accuracy','TP rate','TN rate','PR AUC','ROC AUC']\n",
    "MLSum1 = MLmodel1.mean(axis=0)\n",
    "MLSum1 = pd.DataFrame(MLSum1)\n",
    "MLSum1 = MLSum1.transpose()\n",
    "\n",
    "# Cleaning up the results\n",
    "ML1 = MLSum1.rename(index={0:'Random forest'})\n",
    "ML1['MCC']=ML1['MCC'].round(decimals = 3)\n",
    "ML1['F1 score']=ML1['F1 score'].round(decimals = 3)\n",
    "ML1['Accuracy']=ML1['Accuracy'].round(decimals = 3)\n",
    "ML1['TP rate']=ML1['TP rate'].round(decimals = 3)\n",
    "ML1['TN rate']=ML1['TN rate'].round(decimals = 3)\n",
    "ML1['PR AUC']=ML1['PR AUC'].round(decimals = 3)\n",
    "ML1['ROC AUC']=ML1['ROC AUC'].round(decimals = 3)\n",
    "ML1"
   ]
  },
  {
   "cell_type": "code",
   "execution_count": 8,
   "metadata": {},
   "outputs": [
    {
     "data": {
      "text/html": [
       "<div>\n",
       "<style scoped>\n",
       "    .dataframe tbody tr th:only-of-type {\n",
       "        vertical-align: middle;\n",
       "    }\n",
       "\n",
       "    .dataframe tbody tr th {\n",
       "        vertical-align: top;\n",
       "    }\n",
       "\n",
       "    .dataframe thead th {\n",
       "        text-align: right;\n",
       "    }\n",
       "</style>\n",
       "<table border=\"1\" class=\"dataframe\">\n",
       "  <thead>\n",
       "    <tr style=\"text-align: right;\">\n",
       "      <th></th>\n",
       "      <th>MCC</th>\n",
       "      <th>F1 score</th>\n",
       "      <th>Accuracy</th>\n",
       "      <th>TP rate</th>\n",
       "      <th>TN rate</th>\n",
       "      <th>PR AUC</th>\n",
       "      <th>ROC AUC</th>\n",
       "    </tr>\n",
       "  </thead>\n",
       "  <tbody>\n",
       "    <tr>\n",
       "      <th>Decision tree</th>\n",
       "      <td>0.271</td>\n",
       "      <td>0.5</td>\n",
       "      <td>0.68</td>\n",
       "      <td>0.515</td>\n",
       "      <td>0.757</td>\n",
       "      <td>0.416</td>\n",
       "      <td>0.636</td>\n",
       "    </tr>\n",
       "  </tbody>\n",
       "</table>\n",
       "</div>"
      ],
      "text/plain": [
       "                 MCC  F1 score  Accuracy  TP rate  TN rate  PR AUC  ROC AUC\n",
       "Decision tree  0.271       0.5      0.68    0.515    0.757   0.416    0.636"
      ]
     },
     "execution_count": 8,
     "metadata": {},
     "output_type": "execute_result"
    }
   ],
   "source": [
    "# 80 / 20 Model: DECISION TREE \n",
    "# Declare array for metrics\n",
    "DTarray = np.empty([0,7],int)\n",
    "\n",
    "# Run a loop 100 times\n",
    "for i in range(100):\n",
    "    # Shuffle the dataframe \n",
    "    shuffle2 = df.sample(frac=1)\n",
    "    x2 = shuffle2[['sex','smoking','diabetes','high_blood_pressure','anaemia','age','ejection_fraction','serum_sodium','serum_creatinine','platelets','creatinine_phosphokinase']]\n",
    "    y2 = shuffle2[['DEATH_EVENT']]\n",
    "    # train and test split the dataframe based on 8/2 split\n",
    "    x_train2, x_test2, y_train2, y_test2 = train_test_split(x2, y2, test_size=0.2)\n",
    "    # run model and get prediction variable\n",
    "    dtc=DecisionTreeClassifier()\n",
    "    dtc.fit(x_train2,y_train2)\n",
    "    y_pred2=dtc.predict(x_test2)\n",
    "    # return metrics on each prediction \n",
    "    m1 = matthews_corrcoef(y_test2, y_pred2)\n",
    "    m2 = f1_score(y_test2, y_pred2)\n",
    "    m3 = accuracy_score(y_test2, y_pred2)\n",
    "    c2 = confusion_matrix(y_test2, y_pred2)\n",
    "    m4 = TP2 = c2[1][1] / (c2[1][1]+c2[1][0])\n",
    "    m5 = TN2 = c2[0][0] / (c2[0][0]+c2[0][1])\n",
    "    m6 = average_precision_score(y_test2, y_pred2)\n",
    "    m7 = roc_auc_score(y_test2,y_pred2)\n",
    "    # populate metrics into dataframe\n",
    "    DTarray = np.append(DTarray,np.array([[m1,m2,m3,m4,m5,m6,m7]]), axis=0)\n",
    "\n",
    "# Calculate the mean values of our result array\n",
    "MLmodel2 = pd.DataFrame(DTarray)\n",
    "MLmodel2.columns = ['MCC','F1 score','Accuracy','TP rate','TN rate','PR AUC','ROC AUC']\n",
    "MLSum2 = MLmodel2.mean(axis=0)\n",
    "MLSum2 = pd.DataFrame(MLSum2)\n",
    "MLSum2 = MLSum2.transpose()\n",
    "\n",
    "# Cleaning up the results\n",
    "ML2 = MLSum2.rename(index={0:'Decision tree'})\n",
    "ML2['MCC']=ML2['MCC'].round(decimals = 3)\n",
    "ML2['F1 score']=ML2['F1 score'].round(decimals = 3)\n",
    "ML2['Accuracy']=ML2['Accuracy'].round(decimals = 3)\n",
    "ML2['TP rate']=ML2['TP rate'].round(decimals = 3)\n",
    "ML2['TN rate']=ML2['TN rate'].round(decimals = 3)\n",
    "ML2['PR AUC']=ML2['PR AUC'].round(decimals = 3)\n",
    "ML2['ROC AUC']=ML2['ROC AUC'].round(decimals = 3)\n",
    "ML2"
   ]
  },
  {
   "cell_type": "code",
   "execution_count": 9,
   "metadata": {},
   "outputs": [
    {
     "data": {
      "text/html": [
       "<div>\n",
       "<style scoped>\n",
       "    .dataframe tbody tr th:only-of-type {\n",
       "        vertical-align: middle;\n",
       "    }\n",
       "\n",
       "    .dataframe tbody tr th {\n",
       "        vertical-align: top;\n",
       "    }\n",
       "\n",
       "    .dataframe thead th {\n",
       "        text-align: right;\n",
       "    }\n",
       "</style>\n",
       "<table border=\"1\" class=\"dataframe\">\n",
       "  <thead>\n",
       "    <tr style=\"text-align: right;\">\n",
       "      <th></th>\n",
       "      <th>MCC</th>\n",
       "      <th>F1 score</th>\n",
       "      <th>Accuracy</th>\n",
       "      <th>TP rate</th>\n",
       "      <th>TN rate</th>\n",
       "      <th>PR AUC</th>\n",
       "      <th>ROC AUC</th>\n",
       "    </tr>\n",
       "  </thead>\n",
       "  <tbody>\n",
       "    <tr>\n",
       "      <th>Gradient boosting</th>\n",
       "      <td>0.341</td>\n",
       "      <td>0.527</td>\n",
       "      <td>0.721</td>\n",
       "      <td>0.506</td>\n",
       "      <td>0.823</td>\n",
       "      <td>0.45</td>\n",
       "      <td>0.665</td>\n",
       "    </tr>\n",
       "  </tbody>\n",
       "</table>\n",
       "</div>"
      ],
      "text/plain": [
       "                     MCC  F1 score  Accuracy  TP rate  TN rate  PR AUC  \\\n",
       "Gradient boosting  0.341     0.527     0.721    0.506    0.823    0.45   \n",
       "\n",
       "                   ROC AUC  \n",
       "Gradient boosting    0.665  "
      ]
     },
     "execution_count": 9,
     "metadata": {},
     "output_type": "execute_result"
    }
   ],
   "source": [
    "# 80 / 20 Model: XGBOOST\n",
    "# Declare array for metrics\n",
    "XGarray = np.empty([0,7],int)\n",
    "\n",
    "# Run a loop 100 times\n",
    "for i in range(100):\n",
    "    # Shuffle the dataframe \n",
    "    shuffle3 = df.sample(frac=1)\n",
    "    x3 = shuffle3[['sex','smoking','diabetes','high_blood_pressure','anaemia','age','ejection_fraction','serum_sodium','serum_creatinine','platelets','creatinine_phosphokinase']]\n",
    "    y3 = shuffle3['DEATH_EVENT']\n",
    "    # train and test split the dataframe based on 8/2 split\n",
    "    x_train3, x_test3, y_train3, y_test3 = train_test_split(x3, y3, test_size=0.2)\n",
    "    # run model and get prediction variable\n",
    "    xgc=xgb.XGBClassifier(verbosity=0,use_label_encoder=False)\n",
    "    xgc.fit(x_train3,y_train3)\n",
    "    y_pred3=xgc.predict(x_test3)\n",
    "    # return metrics on each prediction \n",
    "    m1 = matthews_corrcoef(y_test3, y_pred3)\n",
    "    m2 = f1_score(y_test3, y_pred3)\n",
    "    m3 = accuracy_score(y_test3, y_pred3)\n",
    "    c3 = confusion_matrix(y_test3, y_pred3)\n",
    "    m4 = TP3 = c3[1][1] / (c3[1][1]+c3[1][0])\n",
    "    m5 = TN3 = c3[0][0] / (c3[0][0]+c3[0][1])\n",
    "    m6 = average_precision_score(y_test3, y_pred3)\n",
    "    m7 = roc_auc_score(y_test3,y_pred3)\n",
    "    # populate metrics into dataframe\n",
    "    XGarray = np.append(XGarray,np.array([[m1,m2,m3,m4,m5,m6,m7]]), axis=0)\n",
    "\n",
    "# Calculate the mean values of our result array\n",
    "MLmodel3 = pd.DataFrame(XGarray)\n",
    "MLmodel3.columns = ['MCC','F1 score','Accuracy','TP rate','TN rate','PR AUC','ROC AUC']\n",
    "MLSum3 = MLmodel3.mean(axis=0)\n",
    "MLSum3 = pd.DataFrame(MLSum3)\n",
    "MLSum3 = MLSum3.transpose()\n",
    "\n",
    "# Cleaning up the results\n",
    "ML3 = MLSum3.rename(index={0:'Gradient boosting'})\n",
    "ML3['MCC']=ML3['MCC'].round(decimals = 3)\n",
    "ML3['F1 score']=ML3['F1 score'].round(decimals = 3)\n",
    "ML3['Accuracy']=ML3['Accuracy'].round(decimals = 3)\n",
    "ML3['TP rate']=ML3['TP rate'].round(decimals = 3)\n",
    "ML3['TN rate']=ML3['TN rate'].round(decimals = 3)\n",
    "ML3['PR AUC']=ML3['PR AUC'].round(decimals = 3)\n",
    "ML3['ROC AUC']=ML3['ROC AUC'].round(decimals = 3)\n",
    "ML3"
   ]
  },
  {
   "cell_type": "code",
   "execution_count": 10,
   "metadata": {},
   "outputs": [
    {
     "data": {
      "text/html": [
       "<div>\n",
       "<style scoped>\n",
       "    .dataframe tbody tr th:only-of-type {\n",
       "        vertical-align: middle;\n",
       "    }\n",
       "\n",
       "    .dataframe tbody tr th {\n",
       "        vertical-align: top;\n",
       "    }\n",
       "\n",
       "    .dataframe thead th {\n",
       "        text-align: right;\n",
       "    }\n",
       "</style>\n",
       "<table border=\"1\" class=\"dataframe\">\n",
       "  <thead>\n",
       "    <tr style=\"text-align: right;\">\n",
       "      <th></th>\n",
       "      <th>MCC</th>\n",
       "      <th>F1 score</th>\n",
       "      <th>Accuracy</th>\n",
       "      <th>TP rate</th>\n",
       "      <th>TN rate</th>\n",
       "      <th>PR AUC</th>\n",
       "      <th>ROC AUC</th>\n",
       "    </tr>\n",
       "  </thead>\n",
       "  <tbody>\n",
       "    <tr>\n",
       "      <th>Linear regression</th>\n",
       "      <td>0.353</td>\n",
       "      <td>0.736</td>\n",
       "      <td>0.736</td>\n",
       "      <td>0.394</td>\n",
       "      <td>0.904</td>\n",
       "      <td>0.47</td>\n",
       "      <td>0.653</td>\n",
       "    </tr>\n",
       "  </tbody>\n",
       "</table>\n",
       "</div>"
      ],
      "text/plain": [
       "                     MCC  F1 score  Accuracy  TP rate  TN rate  PR AUC  \\\n",
       "Linear regression  0.353     0.736     0.736    0.394    0.904    0.47   \n",
       "\n",
       "                   ROC AUC  \n",
       "Linear regression    0.653  "
      ]
     },
     "execution_count": 10,
     "metadata": {},
     "output_type": "execute_result"
    }
   ],
   "source": [
    "# 80 / 20 Model: LINEAR REGRESSION\n",
    "# Declare array for metrics\n",
    "LRarray = np.empty([0,7],int)\n",
    "\n",
    "# Run a loop 100 times\n",
    "for i in range(100):\n",
    "    # Shuffle the dataframe \n",
    "    shuffle4 = df.sample(frac=1)\n",
    "    x4 = shuffle4[['sex','smoking','diabetes','high_blood_pressure','anaemia','age','ejection_fraction','serum_sodium','serum_creatinine','platelets','creatinine_phosphokinase']]\n",
    "    y4 = shuffle4[['DEATH_EVENT']]\n",
    "    # train and test split the dataframe based on 8/2 split\n",
    "    x_train4, x_test4, y_train4, y_test4 = train_test_split(x4, y4, test_size=0.2)\n",
    "    # run model and get prediction variable\n",
    "    lrg=LinearRegression()\n",
    "    lrg.fit(x_train4,y_train4)\n",
    "    y_pred4=lrg.predict(x_test4)\n",
    "    # return metrics on each prediction \n",
    "    m1 = matthews_corrcoef(y_test4, y_pred4.round())\n",
    "    m2 = f1_score(y_test4, y_pred4.round(),average='micro')\n",
    "    m3 = accuracy_score(y_test4, y_pred4.round())\n",
    "    c4 = confusion_matrix(y_test4, y_pred4.round())\n",
    "    m4 = TP4 = c4[1][1] / (c4[1][1]+c4[1][0])\n",
    "    m5 = TN4 = c4[0][0] / (c4[0][0]+c4[0][1])\n",
    "    m6 = average_precision_score(y_test4, y_pred4.round())\n",
    "    m7 = roc_auc_score(y_test4,y_pred4.round())\n",
    "    # populate metrics into dataframe\n",
    "    LRarray = np.append(LRarray,np.array([[m1,m2,m3,m4,m5,m6,m7]]), axis=0)\n",
    "\n",
    "# Calculate the mean values of our result array\n",
    "MLmodel4 = pd.DataFrame(LRarray)\n",
    "MLmodel4.columns = ['MCC','F1 score','Accuracy','TP rate','TN rate','PR AUC','ROC AUC']\n",
    "MLSum4 = MLmodel4.mean(axis=0)\n",
    "MLSum4 = pd.DataFrame(MLSum4)\n",
    "MLSum4 = MLSum4.transpose()\n",
    "\n",
    "# Cleaning up the results\n",
    "ML4 = MLSum4.rename(index={0:'Linear regression'})\n",
    "ML4['MCC']=ML4['MCC'].round(decimals = 3)\n",
    "ML4['F1 score']=ML4['F1 score'].round(decimals = 3)\n",
    "ML4['Accuracy']=ML4['Accuracy'].round(decimals = 3)\n",
    "ML4['TP rate']=ML4['TP rate'].round(decimals = 3)\n",
    "ML4['TN rate']=ML4['TN rate'].round(decimals = 3)\n",
    "ML4['PR AUC']=ML4['PR AUC'].round(decimals = 3)\n",
    "ML4['ROC AUC']=ML4['ROC AUC'].round(decimals = 3)\n",
    "ML4"
   ]
  },
  {
   "cell_type": "code",
   "execution_count": 9,
   "metadata": {},
   "outputs": [
    {
     "data": {
      "text/html": [
       "<div>\n",
       "<style scoped>\n",
       "    .dataframe tbody tr th:only-of-type {\n",
       "        vertical-align: middle;\n",
       "    }\n",
       "\n",
       "    .dataframe tbody tr th {\n",
       "        vertical-align: top;\n",
       "    }\n",
       "\n",
       "    .dataframe thead th {\n",
       "        text-align: right;\n",
       "    }\n",
       "</style>\n",
       "<table border=\"1\" class=\"dataframe\">\n",
       "  <thead>\n",
       "    <tr style=\"text-align: right;\">\n",
       "      <th></th>\n",
       "      <th>MCC</th>\n",
       "      <th>F1 score</th>\n",
       "      <th>Accuracy</th>\n",
       "      <th>TP rate</th>\n",
       "      <th>TN rate</th>\n",
       "      <th>PR AUC</th>\n",
       "      <th>ROC AUC</th>\n",
       "    </tr>\n",
       "  </thead>\n",
       "  <tbody>\n",
       "    <tr>\n",
       "      <th>One rule</th>\n",
       "      <td>0.192</td>\n",
       "      <td>0.043</td>\n",
       "      <td>0.655</td>\n",
       "      <td>0.026</td>\n",
       "      <td>0.95</td>\n",
       "      <td>0.322</td>\n",
       "      <td>0.488</td>\n",
       "    </tr>\n",
       "  </tbody>\n",
       "</table>\n",
       "</div>"
      ],
      "text/plain": [
       "            MCC  F1 score  Accuracy  TP rate  TN rate  PR AUC  ROC AUC\n",
       "One rule  0.192     0.043     0.655    0.026     0.95   0.322    0.488"
      ]
     },
     "execution_count": 9,
     "metadata": {},
     "output_type": "execute_result"
    }
   ],
   "source": [
    "# 80 / 20 Model: ONE RULE\n",
    "# Declare array for metrics\n",
    "ORarray = np.empty([0,7],int)\n",
    "\n",
    "# Run a loop 100 times\n",
    "for i in range(100):\n",
    "    # Shuffle the dataframe \n",
    "    shuffle5 = df.sample(frac=1)\n",
    "    x5 = shuffle5[['sex','smoking','diabetes','high_blood_pressure','anaemia','age','ejection_fraction','serum_sodium','serum_creatinine','platelets','creatinine_phosphokinase']]\n",
    "    y5 = shuffle5[['DEATH_EVENT']]\n",
    "    y5 = np.ravel(y5)\n",
    "    # train and test split the dataframe based on 8/2 split\n",
    "    x_train5, x_test5, y_train5, y_test5 = train_test_split(x5, y5, test_size=0.2)\n",
    "    x_train5 = x_train5.to_numpy()\n",
    "    x_test5 = x_test5.to_numpy()\n",
    "    # run model and get prediction variable\n",
    "    orc=OneRClassifier()\n",
    "    orc.fit(x_train5,y_train5)\n",
    "    y_pred5=orc.predict(x_test5)\n",
    "    # return metrics on each prediction \n",
    "    c5 = confusion_matrix(y_test5, y_pred5)\n",
    "    m1 = mcc(c5[0][0],c5[1][0],c5[0][1],c5[1][1])\n",
    "    m2 = f1_score(y_test5, y_pred5)\n",
    "    m3 = accuracy_score(y_test5, y_pred5)\n",
    "    m4 = TP5 = c5[1][1] / (c5[1][1]+c5[1][0])\n",
    "    m5 = TN5 = c5[0][0] / (c5[0][0]+c5[0][1])\n",
    "    m6 = average_precision_score(y_test5, y_pred5)\n",
    "    m7 = roc_auc_score(y_test5,y_pred5)\n",
    "    # populate metrics into dataframe\n",
    "    ORarray = np.append(ORarray,np.array([[m1,m2,m3,m4,m5,m6,m7]]), axis=0)\n",
    "\n",
    "# Calculate the mean values of our result array\n",
    "MLmodel5 = pd.DataFrame(ORarray)\n",
    "MLmodel5.columns = ['MCC','F1 score','Accuracy','TP rate','TN rate','PR AUC','ROC AUC']\n",
    "MLSum5 = MLmodel5.mean(axis=0)\n",
    "MLSum5 = pd.DataFrame(MLSum5)\n",
    "MLSum5 = MLSum5.transpose()\n",
    "\n",
    "# Cleaning up the results\n",
    "ML5 = MLSum5.rename(index={0:'One rule'})\n",
    "ML5['MCC']=ML5['MCC'].round(decimals = 3)\n",
    "ML5['F1 score']=ML5['F1 score'].round(decimals = 3)\n",
    "ML5['Accuracy']=ML5['Accuracy'].round(decimals = 3)\n",
    "ML5['TP rate']=ML5['TP rate'].round(decimals = 3)\n",
    "ML5['TN rate']=ML5['TN rate'].round(decimals = 3)\n",
    "ML5['PR AUC']=ML5['PR AUC'].round(decimals = 3)\n",
    "ML5['ROC AUC']=ML5['ROC AUC'].round(decimals = 3)\n",
    "ML5"
   ]
  },
  {
   "cell_type": "code",
   "execution_count": 30,
   "metadata": {},
   "outputs": [
    {
     "data": {
      "text/html": [
       "<div>\n",
       "<style scoped>\n",
       "    .dataframe tbody tr th:only-of-type {\n",
       "        vertical-align: middle;\n",
       "    }\n",
       "\n",
       "    .dataframe tbody tr th {\n",
       "        vertical-align: top;\n",
       "    }\n",
       "\n",
       "    .dataframe thead th {\n",
       "        text-align: right;\n",
       "    }\n",
       "</style>\n",
       "<table border=\"1\" class=\"dataframe\">\n",
       "  <thead>\n",
       "    <tr style=\"text-align: right;\">\n",
       "      <th></th>\n",
       "      <th>MCC</th>\n",
       "      <th>F1 score</th>\n",
       "      <th>Accuracy</th>\n",
       "      <th>TP rate</th>\n",
       "      <th>TN rate</th>\n",
       "      <th>PR AUC</th>\n",
       "      <th>ROC AUC</th>\n",
       "    </tr>\n",
       "  </thead>\n",
       "  <tbody>\n",
       "    <tr>\n",
       "      <th>Naive bayes</th>\n",
       "      <td>0.245</td>\n",
       "      <td>0.336</td>\n",
       "      <td>0.707</td>\n",
       "      <td>0.239</td>\n",
       "      <td>0.934</td>\n",
       "      <td>0.404</td>\n",
       "      <td>0.586</td>\n",
       "    </tr>\n",
       "  </tbody>\n",
       "</table>\n",
       "</div>"
      ],
      "text/plain": [
       "               MCC  F1 score  Accuracy  TP rate  TN rate  PR AUC  ROC AUC\n",
       "Naive bayes  0.245     0.336     0.707    0.239    0.934   0.404    0.586"
      ]
     },
     "execution_count": 30,
     "metadata": {},
     "output_type": "execute_result"
    }
   ],
   "source": [
    "# 80 / 20 Model: NAIVE BAYES\n",
    "# Declare array for metrics\n",
    "NBarray = np.empty([0,7],int)\n",
    "\n",
    "# Run a loop 100 times\n",
    "for i in range(100):\n",
    "    # Shuffle the dataframe \n",
    "    shuffle6 = df.sample(frac=1)\n",
    "    x6 = shuffle6[['sex','smoking','diabetes','high_blood_pressure','anaemia','age','ejection_fraction','serum_sodium','serum_creatinine','platelets','creatinine_phosphokinase']]\n",
    "    y6 = shuffle6['DEATH_EVENT']\n",
    "    # train and test split the dataframe based on 8/2 split\n",
    "    x_train6, x_test6, y_train6, y_test6 = train_test_split(x6, y6, test_size=0.2)\n",
    "    # run model and get prediction variable\n",
    "    nbg=GaussianNB()\n",
    "    nbg.fit(x_train6,y_train6)\n",
    "    y_pred6=nbg.predict(x_test6)\n",
    "    # return metrics on each prediction \n",
    "    m1 = matthews_corrcoef(y_test6, y_pred6)\n",
    "    m2 = f1_score(y_test6, y_pred6)\n",
    "    m3 = accuracy_score(y_test6, y_pred6)\n",
    "    c6 = confusion_matrix(y_test6, y_pred6)\n",
    "    m4 = TP6 = c6[1][1] / (c6[1][1]+c6[1][0])\n",
    "    m5 = TN6 = c6[0][0] / (c6[0][0]+c6[0][1])\n",
    "    m6 = average_precision_score(y_test6, y_pred6)\n",
    "    m7 = roc_auc_score(y_test6,y_pred6)\n",
    "    # populate metrics into dataframe\n",
    "    NBarray = np.append(NBarray,np.array([[m1,m2,m3,m4,m5,m6,m7]]), axis=0)\n",
    "\n",
    "# Calculate the mean values of our result array\n",
    "MLmodel6 = pd.DataFrame(NBarray)\n",
    "MLmodel6.columns = ['MCC','F1 score','Accuracy','TP rate','TN rate','PR AUC','ROC AUC']\n",
    "MLSum6 = MLmodel6.mean(axis=0)\n",
    "MLSum6 = pd.DataFrame(MLSum6)\n",
    "MLSum6 = MLSum6.transpose()\n",
    "\n",
    "# Cleaning up the results\n",
    "ML6 = MLSum6.rename(index={0:'Naive bayes'})\n",
    "ML6['MCC']=ML6['MCC'].round(decimals = 3)\n",
    "ML6['F1 score']=ML6['F1 score'].round(decimals = 3)\n",
    "ML6['Accuracy']=ML6['Accuracy'].round(decimals = 3)\n",
    "ML6['TP rate']=ML6['TP rate'].round(decimals = 3)\n",
    "ML6['TN rate']=ML6['TN rate'].round(decimals = 3)\n",
    "ML6['PR AUC']=ML6['PR AUC'].round(decimals = 3)\n",
    "ML6['ROC AUC']=ML6['ROC AUC'].round(decimals = 3)\n",
    "ML6"
   ]
  },
  {
   "cell_type": "code",
   "execution_count": 9,
   "metadata": {},
   "outputs": [
    {
     "name": "stderr",
     "output_type": "stream",
     "text": [
      "100%|████████████████████████████████████████████████████████████████████████████████| 100/100 [00:01<00:00, 78.43it/s]\n"
     ]
    },
    {
     "data": {
      "text/html": [
       "<div>\n",
       "<style scoped>\n",
       "    .dataframe tbody tr th:only-of-type {\n",
       "        vertical-align: middle;\n",
       "    }\n",
       "\n",
       "    .dataframe tbody tr th {\n",
       "        vertical-align: top;\n",
       "    }\n",
       "\n",
       "    .dataframe thead th {\n",
       "        text-align: right;\n",
       "    }\n",
       "</style>\n",
       "<table border=\"1\" class=\"dataframe\">\n",
       "  <thead>\n",
       "    <tr style=\"text-align: right;\">\n",
       "      <th></th>\n",
       "      <th>MCC</th>\n",
       "      <th>F1 score</th>\n",
       "      <th>Accuracy</th>\n",
       "      <th>TP rate</th>\n",
       "      <th>TN rate</th>\n",
       "      <th>PR AUC</th>\n",
       "      <th>ROC AUC</th>\n",
       "    </tr>\n",
       "  </thead>\n",
       "  <tbody>\n",
       "    <tr>\n",
       "      <th>SVM linear</th>\n",
       "      <td>0.038</td>\n",
       "      <td>0.676</td>\n",
       "      <td>0.676</td>\n",
       "      <td>0.027</td>\n",
       "      <td>0.989</td>\n",
       "      <td>0.318</td>\n",
       "      <td>0.498</td>\n",
       "    </tr>\n",
       "  </tbody>\n",
       "</table>\n",
       "</div>"
      ],
      "text/plain": [
       "              MCC  F1 score  Accuracy  TP rate  TN rate  PR AUC  ROC AUC\n",
       "SVM linear  0.038     0.676     0.676    0.027    0.989   0.318    0.498"
      ]
     },
     "execution_count": 9,
     "metadata": {},
     "output_type": "execute_result"
    }
   ],
   "source": [
    "# 60 / 40 Model: SVM 'LINEAR'\n",
    "# Declare array for metrics\n",
    "SLarray = np.empty([0,7],int)\n",
    "\n",
    "# Run a loop 100 times\n",
    "for i in tqdm(range(100)):\n",
    "    # Shuffle the dataframe \n",
    "    shuffle7 = df.sample(frac=1)\n",
    "    x7 = shuffle7[['sex','smoking','diabetes','high_blood_pressure','anaemia','age','ejection_fraction','serum_sodium','serum_creatinine','platelets','creatinine_phosphokinase']]\n",
    "    y7 = shuffle7[['DEATH_EVENT']]\n",
    "    y7 = np.ravel(y7)\n",
    "    # train and test split the dataframe based on 8/2 split\n",
    "    x_train7, x_test7, y_train7, y_test7 = train_test_split(x7, y7, test_size=0.4)\n",
    "    # run model and get prediction variable\n",
    "    svl=svm.SVR(C=10)\n",
    "    svl.fit(x_train7,y_train7)\n",
    "    y_pred7=svl.predict(x_test7)\n",
    "    # return metrics on each prediction \n",
    "    c7 = confusion_matrix(y_test7.round(), y_pred7.round())\n",
    "    m1 = mcc(c7[0][0],c7[1][0],c7[0][1],c7[1][1])\n",
    "    m2 = f1_score(y_test7.round(), y_pred7.round(),average='micro')\n",
    "    m3 = accuracy_score(y_test7.round(), y_pred7.round())\n",
    "    m4 = TP7 = c7[1][1] / (c7[1][1]+c7[1][0])\n",
    "    m5 = TN7 = c7[0][0] / (c7[0][0]+c7[0][1])\n",
    "    m6 = average_precision_score(y_test7.round(), y_pred7.round())\n",
    "    m7 = roc_auc_score(y_test7.round(),y_pred7.round())\n",
    "    # populate metrics into dataframe\n",
    "    SLarray = np.append(SLarray,np.array([[m1,m2,m3,m4,m5,m6,m7]]), axis=0)\n",
    "\n",
    "# Calculate the mean values of our result array\n",
    "MLmodel7 = pd.DataFrame(SLarray)\n",
    "MLmodel7.columns = ['MCC','F1 score','Accuracy','TP rate','TN rate','PR AUC','ROC AUC']\n",
    "MLSum7 = MLmodel7.mean(axis=0)\n",
    "MLSum7 = pd.DataFrame(MLSum7)\n",
    "MLSum7 = MLSum7.transpose()\n",
    "\n",
    "# Cleaning up the results\n",
    "ML7 = MLSum7.rename(index={0:'SVM linear'})\n",
    "ML7['MCC']=ML7['MCC'].round(decimals = 3)\n",
    "ML7['F1 score']=ML7['F1 score'].round(decimals = 3)\n",
    "ML7['Accuracy']=ML7['Accuracy'].round(decimals = 3)\n",
    "ML7['TP rate']=ML7['TP rate'].round(decimals = 3)\n",
    "ML7['TN rate']=ML7['TN rate'].round(decimals = 3)\n",
    "ML7['PR AUC']=ML7['PR AUC'].round(decimals = 3)\n",
    "ML7['ROC AUC']=ML7['ROC AUC'].round(decimals = 3)\n",
    "ML7"
   ]
  },
  {
   "cell_type": "code",
   "execution_count": 11,
   "metadata": {},
   "outputs": [
    {
     "data": {
      "text/html": [
       "<div>\n",
       "<style scoped>\n",
       "    .dataframe tbody tr th:only-of-type {\n",
       "        vertical-align: middle;\n",
       "    }\n",
       "\n",
       "    .dataframe tbody tr th {\n",
       "        vertical-align: top;\n",
       "    }\n",
       "\n",
       "    .dataframe thead th {\n",
       "        text-align: right;\n",
       "    }\n",
       "</style>\n",
       "<table border=\"1\" class=\"dataframe\">\n",
       "  <thead>\n",
       "    <tr style=\"text-align: right;\">\n",
       "      <th></th>\n",
       "      <th>MCC</th>\n",
       "      <th>F1 score</th>\n",
       "      <th>Accuracy</th>\n",
       "      <th>TP rate</th>\n",
       "      <th>TN rate</th>\n",
       "      <th>PR AUC</th>\n",
       "      <th>ROC AUC</th>\n",
       "    </tr>\n",
       "  </thead>\n",
       "  <tbody>\n",
       "    <tr>\n",
       "      <th>SVM radial</th>\n",
       "      <td>0.045</td>\n",
       "      <td>0.002</td>\n",
       "      <td>0.672</td>\n",
       "      <td>0.001</td>\n",
       "      <td>0.993</td>\n",
       "      <td>0.323</td>\n",
       "      <td>0.497</td>\n",
       "    </tr>\n",
       "  </tbody>\n",
       "</table>\n",
       "</div>"
      ],
      "text/plain": [
       "              MCC  F1 score  Accuracy  TP rate  TN rate  PR AUC  ROC AUC\n",
       "SVM radial  0.045     0.002     0.672    0.001    0.993   0.323    0.497"
      ]
     },
     "execution_count": 11,
     "metadata": {},
     "output_type": "execute_result"
    }
   ],
   "source": [
    "# 60 / 40 Model: SVM 'RADIAL'\n",
    "# Declare array for metrics\n",
    "SRarray = np.empty([0,7],int)\n",
    "\n",
    "# Run a loop 100 times\n",
    "for i in range(100):\n",
    "    # Shuffle the dataframe \n",
    "    shuffle8 = df.sample(frac=1)\n",
    "    x8 = shuffle8[['sex','smoking','diabetes','high_blood_pressure','anaemia','age','ejection_fraction','serum_sodium','serum_creatinine','platelets','creatinine_phosphokinase']]\n",
    "    y8 = shuffle8[['DEATH_EVENT']]\n",
    "    y8 = np.ravel(y8)\n",
    "    # train and test split the dataframe based on 8/2 split\n",
    "    x_train8, x_test8, y_train8, y_test8 = train_test_split(x8, y8, test_size=0.4)\n",
    "    # run model and get prediction variable\n",
    "    svr=svm.SVC(kernel='rbf',C=10)\n",
    "    svr.fit(x_train8,y_train8)\n",
    "    y_pred8=svr.predict(x_test8)\n",
    "    # return metrics on each prediction \n",
    "    c8 = confusion_matrix(y_test8, y_pred8.round())\n",
    "    m1 = mcc(c8[0][0],c8[1][0],c8[0][1],c8[1][1])\n",
    "    m2 = f1_score(y_test8, y_pred8.round())\n",
    "    m3 = accuracy_score(y_test8, y_pred8.round())\n",
    "    m4 = TP8 = c8[1][1] / (c8[1][1]+c8[1][0])\n",
    "    m5 = TN8 = c8[0][0] / (c8[0][0]+c8[0][1])\n",
    "    m6 = average_precision_score(y_test8, y_pred8)\n",
    "    m7 = roc_auc_score(y_test8,y_pred8)\n",
    "    # populate metrics into dataframe\n",
    "    SRarray = np.append(SRarray,np.array([[m1,m2,m3,m4,m5,m6,m7]]), axis=0)\n",
    "\n",
    "# Calculate the mean values of our result array\n",
    "MLmodel8 = pd.DataFrame(SRarray)\n",
    "MLmodel8.columns = ['MCC','F1 score','Accuracy','TP rate','TN rate','PR AUC','ROC AUC']\n",
    "MLSum8 = MLmodel8.mean(axis=0)\n",
    "MLSum8 = pd.DataFrame(MLSum8)\n",
    "MLSum8 = MLSum8.transpose()\n",
    "\n",
    "# Cleaning up the results\n",
    "ML8 = MLSum8.rename(index={0:'SVM radial'})\n",
    "ML8['MCC']=ML8['MCC'].round(decimals = 3)\n",
    "ML8['F1 score']=ML8['F1 score'].round(decimals = 3)\n",
    "ML8['Accuracy']=ML8['Accuracy'].round(decimals = 3)\n",
    "ML8['TP rate']=ML8['TP rate'].round(decimals = 3)\n",
    "ML8['TN rate']=ML8['TN rate'].round(decimals = 3)\n",
    "ML8['PR AUC']=ML8['PR AUC'].round(decimals = 3)\n",
    "ML8['ROC AUC']=ML8['ROC AUC'].round(decimals = 3)\n",
    "ML8"
   ]
  },
  {
   "cell_type": "code",
   "execution_count": 7,
   "metadata": {},
   "outputs": [
    {
     "data": {
      "text/html": [
       "<div>\n",
       "<style scoped>\n",
       "    .dataframe tbody tr th:only-of-type {\n",
       "        vertical-align: middle;\n",
       "    }\n",
       "\n",
       "    .dataframe tbody tr th {\n",
       "        vertical-align: top;\n",
       "    }\n",
       "\n",
       "    .dataframe thead th {\n",
       "        text-align: right;\n",
       "    }\n",
       "</style>\n",
       "<table border=\"1\" class=\"dataframe\">\n",
       "  <thead>\n",
       "    <tr style=\"text-align: right;\">\n",
       "      <th></th>\n",
       "      <th>MCC</th>\n",
       "      <th>F1 score</th>\n",
       "      <th>Accuracy</th>\n",
       "      <th>TP rate</th>\n",
       "      <th>TN rate</th>\n",
       "      <th>PR AUC</th>\n",
       "      <th>ROC AUC</th>\n",
       "    </tr>\n",
       "  </thead>\n",
       "  <tbody>\n",
       "    <tr>\n",
       "      <th>k-nearest neighbors</th>\n",
       "      <td>0.007</td>\n",
       "      <td>0.188</td>\n",
       "      <td>0.63</td>\n",
       "      <td>0.14</td>\n",
       "      <td>0.864</td>\n",
       "      <td>0.325</td>\n",
       "      <td>0.502</td>\n",
       "    </tr>\n",
       "  </tbody>\n",
       "</table>\n",
       "</div>"
      ],
      "text/plain": [
       "                       MCC  F1 score  Accuracy  TP rate  TN rate  PR AUC  \\\n",
       "k-nearest neighbors  0.007     0.188      0.63     0.14    0.864   0.325   \n",
       "\n",
       "                     ROC AUC  \n",
       "k-nearest neighbors    0.502  "
      ]
     },
     "execution_count": 7,
     "metadata": {},
     "output_type": "execute_result"
    }
   ],
   "source": [
    "# 60 / 40 Model: KNN\n",
    "# Declare array for metrics\n",
    "KNarray = np.empty([0,7],int)\n",
    "\n",
    "# Run a loop 100 times\n",
    "for i in range(100):\n",
    "    # Shuffle the dataframe \n",
    "    shuffle9 = df.sample(frac=1)\n",
    "    x9 = shuffle9[['sex','smoking','diabetes','high_blood_pressure','anaemia','age','ejection_fraction','serum_sodium','serum_creatinine','platelets','creatinine_phosphokinase']]\n",
    "    y9 = shuffle9[['DEATH_EVENT']]\n",
    "    y9 = np.ravel(y9)\n",
    "    # train and test split the dataframe based on 8/2 split\n",
    "    x_train9, x_test9, y_train9, y_test9 = train_test_split(x9, y9, test_size=0.4)\n",
    "    # run model and get prediction variable\n",
    "    knn = KNeighborsClassifier(n_neighbors=7)\n",
    "    knn.fit(x_train9,y_train9)\n",
    "    y_pred9=knn.predict(x_test9)\n",
    "    # return metrics on each prediction \n",
    "    m1 = matthews_corrcoef(y_test9, y_pred9)\n",
    "    m2 = f1_score(y_test9, y_pred9)\n",
    "    m3 = accuracy_score(y_test9, y_pred9)\n",
    "    c9 = confusion_matrix(y_test9, y_pred9)\n",
    "    m4 = TP9 = c9[1][1] / (c9[1][1]+c9[1][0])\n",
    "    m5 = TN9 = c9[0][0] / (c9[0][0]+c9[0][1])\n",
    "    m6 = average_precision_score(y_test9, y_pred9)\n",
    "    m7 = roc_auc_score(y_test9,y_pred9)\n",
    "    # populate metrics into dataframe\n",
    "    KNarray = np.append(KNarray,np.array([[m1,m2,m3,m4,m5,m6,m7]]), axis=0)\n",
    "\n",
    "# Calculate the mean values of our result array\n",
    "MLmodel9 = pd.DataFrame(KNarray)\n",
    "MLmodel9.columns = ['MCC','F1 score','Accuracy','TP rate','TN rate','PR AUC','ROC AUC']\n",
    "MLSum9 = MLmodel9.mean(axis=0)\n",
    "MLSum9 = pd.DataFrame(MLSum9)\n",
    "MLSum9 = MLSum9.transpose()\n",
    "\n",
    "# Cleaning up the results\n",
    "ML9 = MLSum9.rename(index={0:'k-nearest neighbors'})\n",
    "ML9['MCC']=ML9['MCC'].round(decimals = 3)\n",
    "ML9['F1 score']=ML9['F1 score'].round(decimals = 3)\n",
    "ML9['Accuracy']=ML9['Accuracy'].round(decimals = 3)\n",
    "ML9['TP rate']=ML9['TP rate'].round(decimals = 3)\n",
    "ML9['TN rate']=ML9['TN rate'].round(decimals = 3)\n",
    "ML9['PR AUC']=ML9['PR AUC'].round(decimals = 3)\n",
    "ML9['ROC AUC']=ML9['ROC AUC'].round(decimals = 3)\n",
    "ML9"
   ]
  },
  {
   "cell_type": "code",
   "execution_count": 13,
   "metadata": {},
   "outputs": [
    {
     "name": "stderr",
     "output_type": "stream",
     "text": [
      "\r",
      "  0%|                                                                                          | 0/100 [00:00<?, ?it/s]"
     ]
    },
    {
     "name": "stdout",
     "output_type": "stream",
     "text": [
      "179/179 [==============================] - ETA: 37s - loss: 0.69 - ETA: 0s - loss: 0.6904 - ETA: 0s - loss: 0.689 - ETA: 0s - loss: 0.687 - 0s 887us/step - loss: 0.6874\n"
     ]
    },
    {
     "name": "stderr",
     "output_type": "stream",
     "text": [
      "\r",
      "  1%|▊                                                                                 | 1/100 [00:00<00:49,  1.98it/s]"
     ]
    },
    {
     "name": "stdout",
     "output_type": "stream",
     "text": [
      "179/179 [==============================] - ETA: 1:11 - loss: 0.693 - ETA: 0s - loss: 0.6909  - ETA: 0s - loss: 0.688 - ETA: 0s - loss: 0.686 - 1s 933us/step - loss: 0.6864\n"
     ]
    },
    {
     "name": "stderr",
     "output_type": "stream",
     "text": [
      "\r",
      "  2%|█▋                                                                                | 2/100 [00:01<00:55,  1.77it/s]"
     ]
    },
    {
     "name": "stdout",
     "output_type": "stream",
     "text": [
      "179/179 [==============================] - ETA: 36s - loss: 0.69 - ETA: 0s - loss: 0.6932 - ETA: 0s - loss: 0.691 - ETA: 0s - loss: 0.690 - 0s 917us/step - loss: 0.6902\n"
     ]
    },
    {
     "name": "stderr",
     "output_type": "stream",
     "text": [
      "\r",
      "  3%|██▍                                                                               | 3/100 [00:01<00:52,  1.84it/s]"
     ]
    },
    {
     "name": "stdout",
     "output_type": "stream",
     "text": [
      "179/179 [==============================] - ETA: 36s - loss: 8.4237e- - ETA: 0s - loss: 2.2904     - ETA: 0s - loss: 1.594 - 0s 849us/step - loss: 1.3866\n"
     ]
    },
    {
     "name": "stderr",
     "output_type": "stream",
     "text": [
      "\r",
      "  4%|███▎                                                                              | 4/100 [00:02<00:51,  1.87it/s]"
     ]
    },
    {
     "name": "stdout",
     "output_type": "stream",
     "text": [
      "179/179 [==============================] - ETA: 48s - loss: 0.69 - ETA: 0s - loss: 0.6925 - ETA: 0s - loss: 0.690 - 0s 828us/step - loss: 0.6881\n"
     ]
    },
    {
     "name": "stderr",
     "output_type": "stream",
     "text": [
      "\r",
      "  5%|████                                                                              | 5/100 [00:02<00:51,  1.85it/s]"
     ]
    },
    {
     "name": "stdout",
     "output_type": "stream",
     "text": [
      "179/179 [==============================] - ETA: 48s - loss: 6.2513e- - ETA: 0s - loss: 2.0388     - ETA: 0s - loss: 1.353 - ETA: 0s - loss: 1.141 - 0s 904us/step - loss: 1.1260\n"
     ]
    },
    {
     "name": "stderr",
     "output_type": "stream",
     "text": [
      "\r",
      "  6%|████▉                                                                             | 6/100 [00:03<00:52,  1.80it/s]"
     ]
    },
    {
     "name": "stdout",
     "output_type": "stream",
     "text": [
      "179/179 [==============================] - ETA: 41s - loss: 0.69 - ETA: 0s - loss: 0.6913 - ETA: 0s - loss: 0.690 - 0s 809us/step - loss: 0.6890\n"
     ]
    },
    {
     "name": "stderr",
     "output_type": "stream",
     "text": [
      "\r",
      "  7%|█████▋                                                                            | 7/100 [00:03<00:50,  1.85it/s]"
     ]
    },
    {
     "name": "stdout",
     "output_type": "stream",
     "text": [
      "179/179 [==============================] - ETA: 42s - loss: 66.573 - ETA: 0s - loss: 10.948 - ETA: 0s - loss: 5.8780 - 0s 797us/step - loss: 4.3463\n"
     ]
    },
    {
     "name": "stderr",
     "output_type": "stream",
     "text": [
      "\r",
      "  8%|██████▌                                                                           | 8/100 [00:04<00:48,  1.88it/s]"
     ]
    },
    {
     "name": "stdout",
     "output_type": "stream",
     "text": [
      "179/179 [==============================] - ETA: 36s - loss: 3.6308e- - ETA: 0s - loss: 3.6525     - ETA: 0s - loss: 1.949 - ETA: 0s - loss: 1.473 - 0s 897us/step - loss: 1.4425\n"
     ]
    },
    {
     "name": "stderr",
     "output_type": "stream",
     "text": [
      "\r",
      "  9%|███████▍                                                                          | 9/100 [00:04<00:48,  1.90it/s]"
     ]
    },
    {
     "name": "stdout",
     "output_type": "stream",
     "text": [
      "179/179 [==============================] - ETA: 54s - loss: 6.48 - ETA: 0s - loss: 0.9305 - ETA: 0s - loss: 0.789 - ETA: 0s - loss: 0.753 - 0s 935us/step - loss: 0.7478\n"
     ]
    },
    {
     "name": "stderr",
     "output_type": "stream",
     "text": [
      "\r",
      " 10%|████████                                                                         | 10/100 [00:05<00:50,  1.80it/s]"
     ]
    },
    {
     "name": "stdout",
     "output_type": "stream",
     "text": [
      "179/179 [==============================] - ETA: 48s - loss: 0.69 - ETA: 0s - loss: 0.6905 - ETA: 0s - loss: 0.686 - ETA: 0s - loss: 0.684 - 0s 985us/step - loss: 0.6847\n"
     ]
    },
    {
     "name": "stderr",
     "output_type": "stream",
     "text": [
      "\r",
      " 11%|████████▉                                                                        | 11/100 [00:06<00:51,  1.74it/s]"
     ]
    },
    {
     "name": "stdout",
     "output_type": "stream",
     "text": [
      "179/179 [==============================] - ETA: 51s - loss: 68.441 - ETA: 0s - loss: 6.3203  - ETA: 0s - loss: 3.956 - ETA: 0s - loss: 2.893 - 0s 873us/step - loss: 2.8810\n"
     ]
    },
    {
     "name": "stderr",
     "output_type": "stream",
     "text": [
      "\r",
      " 12%|█████████▋                                                                       | 12/100 [00:06<00:51,  1.71it/s]"
     ]
    },
    {
     "name": "stdout",
     "output_type": "stream",
     "text": [
      "179/179 [==============================] - ETA: 47s - loss: 18.892 - ETA: 0s - loss: 4.9342  - ETA: 0s - loss: 3.144 - ETA: 0s - loss: 2.349 - 0s 909us/step - loss: 2.2775\n"
     ]
    },
    {
     "name": "stderr",
     "output_type": "stream",
     "text": [
      "\r",
      " 13%|██████████▌                                                                      | 13/100 [00:07<00:50,  1.72it/s]"
     ]
    },
    {
     "name": "stdout",
     "output_type": "stream",
     "text": [
      "179/179 [==============================] - ETA: 48s - loss: 2.75 - ETA: 0s - loss: 2.3858 - ETA: 0s - loss: 1.490 - 0s 831us/step - loss: 1.2402\n"
     ]
    },
    {
     "name": "stderr",
     "output_type": "stream",
     "text": [
      "\r",
      " 14%|███████████▎                                                                     | 14/100 [00:07<00:49,  1.73it/s]"
     ]
    },
    {
     "name": "stdout",
     "output_type": "stream",
     "text": [
      "179/179 [==============================] - ETA: 1:20 - loss: 5.7002e-1 - ETA: 0s - loss: 2.6822      - ETA: 0s - loss: 1.647 - ETA: 0s - loss: 1.274 - 1s 953us/step - loss: 1.2156\n"
     ]
    },
    {
     "name": "stderr",
     "output_type": "stream",
     "text": [
      "\r",
      " 15%|████████████▏                                                                    | 15/100 [00:08<00:54,  1.55it/s]"
     ]
    },
    {
     "name": "stdout",
     "output_type": "stream",
     "text": [
      "179/179 [==============================] - ETA: 47s - loss: 0.69 - ETA: 0s - loss: 0.6900 - ETA: 0s - loss: 0.687 - 0s 830us/step - loss: 0.6878\n"
     ]
    },
    {
     "name": "stderr",
     "output_type": "stream",
     "text": [
      "\r",
      " 16%|████████████▉                                                                    | 16/100 [00:09<00:52,  1.59it/s]"
     ]
    },
    {
     "name": "stdout",
     "output_type": "stream",
     "text": [
      "179/179 [==============================] - ETA: 43s - loss: 0.69 - ETA: 0s - loss: 0.6911 - ETA: 0s - loss: 0.689 - ETA: 0s - loss: 0.687 - 0s 919us/step - loss: 0.6872\n"
     ]
    },
    {
     "name": "stderr",
     "output_type": "stream",
     "text": [
      "\r",
      " 17%|█████████████▊                                                                   | 17/100 [00:09<00:50,  1.65it/s]"
     ]
    },
    {
     "name": "stdout",
     "output_type": "stream",
     "text": [
      "179/179 [==============================] - ETA: 50s - loss: 29.673 - ETA: 0s - loss: 1.7985  - ETA: 0s - loss: 1.239 - ETA: 0s - loss: 1.062 - 0s 877us/step - loss: 1.0588\n"
     ]
    },
    {
     "name": "stderr",
     "output_type": "stream",
     "text": [
      "\r",
      " 18%|██████████████▌                                                                  | 18/100 [00:10<00:49,  1.66it/s]"
     ]
    },
    {
     "name": "stdout",
     "output_type": "stream",
     "text": [
      "179/179 [==============================] - ETA: 44s - loss: 3.9341e- - ETA: 0s - loss: 5.4936     - ETA: 0s - loss: 3.264 - ETA: 0s - loss: 2.428 - 0s 897us/step - loss: 2.3885\n"
     ]
    },
    {
     "name": "stderr",
     "output_type": "stream",
     "text": [
      "\r",
      " 19%|███████████████▍                                                                 | 19/100 [00:10<00:47,  1.70it/s]"
     ]
    },
    {
     "name": "stdout",
     "output_type": "stream",
     "text": [
      "179/179 [==============================] - ETA: 43s - loss: 0.69 - ETA: 0s - loss: 0.6903 - ETA: 0s - loss: 0.689 - 0s 840us/step - loss: 0.6863\n"
     ]
    },
    {
     "name": "stderr",
     "output_type": "stream",
     "text": [
      "\r",
      " 20%|████████████████▏                                                                | 20/100 [00:11<00:46,  1.73it/s]"
     ]
    },
    {
     "name": "stdout",
     "output_type": "stream",
     "text": [
      "179/179 [==============================] - ETA: 39s - loss: 4.44 - ETA: 0s - loss: 0.7629 - ETA: 0s - loss: 0.721 - ETA: 0s - loss: 0.709 - 0s 903us/step - loss: 0.7085\n"
     ]
    },
    {
     "name": "stderr",
     "output_type": "stream",
     "text": [
      "\r",
      " 21%|█████████████████                                                                | 21/100 [00:12<00:44,  1.79it/s]"
     ]
    },
    {
     "name": "stdout",
     "output_type": "stream",
     "text": [
      "179/179 [==============================] - ETA: 41s - loss: 0.69 - ETA: 0s - loss: 0.6929 - ETA: 0s - loss: 0.691 - 0s 822us/step - loss: 0.6891\n"
     ]
    },
    {
     "name": "stderr",
     "output_type": "stream",
     "text": [
      "\r",
      " 22%|█████████████████▊                                                               | 22/100 [00:12<00:43,  1.81it/s]"
     ]
    },
    {
     "name": "stdout",
     "output_type": "stream",
     "text": [
      "179/179 [==============================] - ETA: 37s - loss: 0.69 - ETA: 0s - loss: 0.6911 - ETA: 0s - loss: 0.690 - ETA: 0s - loss: 0.689 - 0s 868us/step - loss: 0.6895\n"
     ]
    },
    {
     "name": "stderr",
     "output_type": "stream",
     "text": [
      "\r",
      " 23%|██████████████████▋                                                              | 23/100 [00:13<00:41,  1.86it/s]"
     ]
    },
    {
     "name": "stdout",
     "output_type": "stream",
     "text": [
      "179/179 [==============================] - ETA: 41s - loss: 3.9224e- - ETA: 0s - loss: 1.8380     - ETA: 0s - loss: 1.251 - 0s 819us/step - loss: 1.0752\n"
     ]
    },
    {
     "name": "stderr",
     "output_type": "stream",
     "text": [
      "\r",
      " 24%|███████████████████▍                                                             | 24/100 [00:13<00:40,  1.88it/s]"
     ]
    },
    {
     "name": "stdout",
     "output_type": "stream",
     "text": [
      "179/179 [==============================] - ETA: 39s - loss: 0.69 - ETA: 0s - loss: 0.6905 - ETA: 0s - loss: 0.688 - 0s 839us/step - loss: 0.6862\n"
     ]
    },
    {
     "name": "stderr",
     "output_type": "stream",
     "text": [
      "\r",
      " 25%|████████████████████▎                                                            | 25/100 [00:14<00:39,  1.92it/s]"
     ]
    },
    {
     "name": "stdout",
     "output_type": "stream",
     "text": [
      "179/179 [==============================] - ETA: 36s - loss: 69.499 - ETA: 0s - loss: 7.7094  - ETA: 0s - loss: 4.251 - ETA: 0s - loss: 3.136 - 0s 870us/step - loss: 3.1369\n"
     ]
    },
    {
     "name": "stderr",
     "output_type": "stream",
     "text": [
      "\r",
      " 26%|█████████████████████                                                            | 26/100 [00:14<00:42,  1.73it/s]"
     ]
    },
    {
     "name": "stdout",
     "output_type": "stream",
     "text": [
      "179/179 [==============================] - ETA: 34s - loss: 3.8669e- - ETA: 0s - loss: 3.9047     - ETA: 0s - loss: 2.393 - 0s 845us/step - loss: 1.7625\n"
     ]
    },
    {
     "name": "stderr",
     "output_type": "stream",
     "text": [
      "\r",
      " 27%|█████████████████████▊                                                           | 27/100 [00:15<00:39,  1.83it/s]"
     ]
    },
    {
     "name": "stdout",
     "output_type": "stream",
     "text": [
      "179/179 [==============================] - ETA: 36s - loss: 13.595 - ETA: 0s - loss: 2.0539  - ETA: 0s - loss: 1.303 - ETA: 0s - loss: 1.097 - 0s 954us/step - loss: 1.0608\n"
     ]
    },
    {
     "name": "stderr",
     "output_type": "stream",
     "text": [
      "\r",
      " 28%|██████████████████████▋                                                          | 28/100 [00:15<00:38,  1.85it/s]"
     ]
    },
    {
     "name": "stdout",
     "output_type": "stream",
     "text": [
      "179/179 [==============================] - ETA: 41s - loss: 0.69 - ETA: 0s - loss: 0.6917 - ETA: 0s - loss: 0.689 - 0s 802us/step - loss: 0.6882\n"
     ]
    },
    {
     "name": "stderr",
     "output_type": "stream",
     "text": [
      "\r",
      " 29%|███████████████████████▍                                                         | 29/100 [00:16<00:38,  1.86it/s]"
     ]
    },
    {
     "name": "stdout",
     "output_type": "stream",
     "text": [
      "179/179 [==============================] - ETA: 39s - loss: 0.69 - ETA: 0s - loss: 0.6896 - ETA: 0s - loss: 0.689 - ETA: 0s - loss: 0.688 - 0s 873us/step - loss: 0.6882\n"
     ]
    },
    {
     "name": "stderr",
     "output_type": "stream",
     "text": [
      "\r",
      " 30%|████████████████████████▎                                                        | 30/100 [00:16<00:37,  1.89it/s]"
     ]
    },
    {
     "name": "stdout",
     "output_type": "stream",
     "text": [
      "179/179 [==============================] - ETA: 44s - loss: 0.69 - ETA: 0s - loss: 0.6914 - ETA: 0s - loss: 0.688 - ETA: 0s - loss: 0.686 - 0s 1ms/step - loss: 0.6853\n"
     ]
    },
    {
     "name": "stderr",
     "output_type": "stream",
     "text": [
      "\r",
      " 31%|█████████████████████████                                                        | 31/100 [00:17<00:37,  1.85it/s]"
     ]
    },
    {
     "name": "stdout",
     "output_type": "stream",
     "text": [
      "179/179 [==============================] - ETA: 38s - loss: 0.0000e+ - ETA: 0s - loss: 2.0349     - ETA: 0s - loss: 1.477 - 0s 813us/step - loss: 1.2362\n"
     ]
    },
    {
     "name": "stderr",
     "output_type": "stream",
     "text": [
      "\r",
      " 32%|█████████████████████████▉                                                       | 32/100 [00:17<00:36,  1.88it/s]"
     ]
    },
    {
     "name": "stdout",
     "output_type": "stream",
     "text": [
      "179/179 [==============================] - ETA: 40s - loss: 0.69 - ETA: 0s - loss: 0.6916 - ETA: 0s - loss: 0.688 - ETA: 0s - loss: 0.687 - 0s 924us/step - loss: 0.6867\n"
     ]
    },
    {
     "name": "stderr",
     "output_type": "stream",
     "text": [
      "\r",
      " 33%|██████████████████████████▋                                                      | 33/100 [00:18<00:35,  1.87it/s]"
     ]
    },
    {
     "name": "stdout",
     "output_type": "stream",
     "text": [
      "179/179 [==============================] - ETA: 38s - loss: 0.69 - ETA: 0s - loss: 0.6917 - ETA: 0s - loss: 0.688 - 0s 812us/step - loss: 0.6878\n"
     ]
    },
    {
     "name": "stderr",
     "output_type": "stream",
     "text": [
      "\r",
      " 34%|███████████████████████████▌                                                     | 34/100 [00:18<00:34,  1.92it/s]"
     ]
    },
    {
     "name": "stdout",
     "output_type": "stream",
     "text": [
      "179/179 [==============================] - ETA: 42s - loss: 0.69 - ETA: 0s - loss: 0.6895 - ETA: 0s - loss: 0.685 - 0s 796us/step - loss: 0.6841\n"
     ]
    },
    {
     "name": "stderr",
     "output_type": "stream",
     "text": [
      "\r",
      " 35%|████████████████████████████▎                                                    | 35/100 [00:19<00:34,  1.91it/s]"
     ]
    },
    {
     "name": "stdout",
     "output_type": "stream",
     "text": [
      "179/179 [==============================] - ETA: 42s - loss: 0.69 - ETA: 0s - loss: 0.6898 - ETA: 0s - loss: 0.690 - 0s 845us/step - loss: 0.6885\n"
     ]
    },
    {
     "name": "stderr",
     "output_type": "stream",
     "text": [
      "\r",
      " 36%|█████████████████████████████▏                                                   | 36/100 [00:20<00:33,  1.92it/s]"
     ]
    },
    {
     "name": "stdout",
     "output_type": "stream",
     "text": [
      "179/179 [==============================] - ETA: 38s - loss: 0.69 - ETA: 0s - loss: 0.6917 - ETA: 0s - loss: 0.689 - 0s 803us/step - loss: 0.6876\n"
     ]
    },
    {
     "name": "stderr",
     "output_type": "stream",
     "text": [
      "\r",
      " 37%|█████████████████████████████▉                                                   | 37/100 [00:20<00:32,  1.96it/s]"
     ]
    },
    {
     "name": "stdout",
     "output_type": "stream",
     "text": [
      "179/179 [==============================] - ETA: 1:11 - loss: 2.572 - ETA: 0s - loss: 0.7702  - ETA: 0s - loss: 0.727 - 1s 827us/step - loss: 0.7146\n"
     ]
    },
    {
     "name": "stderr",
     "output_type": "stream",
     "text": [
      "\r",
      " 38%|██████████████████████████████▊                                                  | 38/100 [00:21<00:34,  1.78it/s]"
     ]
    },
    {
     "name": "stdout",
     "output_type": "stream",
     "text": [
      "179/179 [==============================] - ETA: 34s - loss: 0.69 - ETA: 0s - loss: 0.6922 - ETA: 0s - loss: 0.689 - ETA: 0s - loss: 0.688 - 0s 953us/step - loss: 0.6874\n"
     ]
    },
    {
     "name": "stderr",
     "output_type": "stream",
     "text": [
      "\r",
      " 39%|███████████████████████████████▌                                                 | 39/100 [00:21<00:33,  1.84it/s]"
     ]
    },
    {
     "name": "stdout",
     "output_type": "stream",
     "text": [
      "179/179 [==============================] - ETA: 35s - loss: 0.69 - ETA: 0s - loss: 0.6930 - ETA: 0s - loss: 0.691 - ETA: 0s - loss: 0.688 - 0s 932us/step - loss: 0.6878\n"
     ]
    },
    {
     "name": "stderr",
     "output_type": "stream",
     "text": [
      "\r",
      " 40%|████████████████████████████████▍                                                | 40/100 [00:22<00:32,  1.87it/s]"
     ]
    },
    {
     "name": "stdout",
     "output_type": "stream",
     "text": [
      "179/179 [==============================] - ETA: 35s - loss: 0.69 - ETA: 0s - loss: 0.6923 - ETA: 0s - loss: 0.690 - ETA: 0s - loss: 0.688 - 0s 913us/step - loss: 0.6890\n"
     ]
    },
    {
     "name": "stderr",
     "output_type": "stream",
     "text": [
      "\r",
      " 41%|█████████████████████████████████▏                                               | 41/100 [00:22<00:30,  1.92it/s]"
     ]
    },
    {
     "name": "stdout",
     "output_type": "stream",
     "text": [
      "179/179 [==============================] - ETA: 42s - loss: 0.69 - ETA: 0s - loss: 0.6910 - ETA: 0s - loss: 0.690 - 0s 813us/step - loss: 0.6883\n"
     ]
    },
    {
     "name": "stderr",
     "output_type": "stream",
     "text": [
      "\r",
      " 42%|██████████████████████████████████                                               | 42/100 [00:23<00:30,  1.91it/s]"
     ]
    },
    {
     "name": "stdout",
     "output_type": "stream",
     "text": [
      "179/179 [==============================] - ETA: 43s - loss: 0.69 - ETA: 0s - loss: 0.6894 - ETA: 0s - loss: 0.689 - ETA: 0s - loss: 0.687 - 0s 977us/step - loss: 0.6848\n"
     ]
    },
    {
     "name": "stderr",
     "output_type": "stream",
     "text": [
      "\r",
      " 43%|██████████████████████████████████▊                                              | 43/100 [00:23<00:30,  1.88it/s]"
     ]
    },
    {
     "name": "stdout",
     "output_type": "stream",
     "text": [
      "179/179 [==============================] - ETA: 38s - loss: 0.69 - ETA: 0s - loss: 0.6905 - ETA: 0s - loss: 0.687 - ETA: 0s - loss: 0.684 - 0s 964us/step - loss: 0.6846\n"
     ]
    },
    {
     "name": "stderr",
     "output_type": "stream",
     "text": [
      "\r",
      " 44%|███████████████████████████████████▋                                             | 44/100 [00:24<00:29,  1.88it/s]"
     ]
    },
    {
     "name": "stdout",
     "output_type": "stream",
     "text": [
      "179/179 [==============================] - ETA: 51s - loss: 108.73 - ETA: 0s - loss: 23.4457 - ETA: 0s - loss: 8.9538 - ETA: 0s - loss: 5.616 - 0s 989us/step - loss: 4.8525\n"
     ]
    },
    {
     "name": "stderr",
     "output_type": "stream",
     "text": [
      "\r",
      " 45%|████████████████████████████████████▍                                            | 45/100 [00:24<00:30,  1.81it/s]"
     ]
    },
    {
     "name": "stdout",
     "output_type": "stream",
     "text": [
      "179/179 [==============================] - ETA: 41s - loss: 0.69 - ETA: 0s - loss: 0.6920 - ETA: 0s - loss: 0.689 - 0s 840us/step - loss: 0.6877\n"
     ]
    },
    {
     "name": "stderr",
     "output_type": "stream",
     "text": [
      "\r",
      " 46%|█████████████████████████████████████▎                                           | 46/100 [00:25<00:29,  1.83it/s]"
     ]
    },
    {
     "name": "stdout",
     "output_type": "stream",
     "text": [
      "179/179 [==============================] - ETA: 48s - loss: 31.746 - ETA: 0s - loss: 1.7206  - ETA: 0s - loss: 1.235 - 0s 820us/step - loss: 1.0651\n"
     ]
    },
    {
     "name": "stderr",
     "output_type": "stream",
     "text": [
      "\r",
      " 47%|██████████████████████████████████████                                           | 47/100 [00:26<00:29,  1.79it/s]"
     ]
    },
    {
     "name": "stdout",
     "output_type": "stream",
     "text": [
      "179/179 [==============================] - ETA: 41s - loss: 9.3177e- - ETA: 0s - loss: 3.7335     - ETA: 0s - loss: 2.356 - ETA: 0s - loss: 1.824 - 0s 905us/step - loss: 1.7632\n"
     ]
    },
    {
     "name": "stderr",
     "output_type": "stream",
     "text": [
      "\r",
      " 48%|██████████████████████████████████████▉                                          | 48/100 [00:26<00:28,  1.81it/s]"
     ]
    },
    {
     "name": "stdout",
     "output_type": "stream",
     "text": [
      "179/179 [==============================] - ETA: 41s - loss: 0.69 - ETA: 0s - loss: 0.6917 - ETA: 0s - loss: 0.687 - ETA: 0s - loss: 0.685 - 0s 991us/step - loss: 0.6853\n"
     ]
    },
    {
     "name": "stderr",
     "output_type": "stream",
     "text": [
      "\r",
      " 49%|███████████████████████████████████████▋                                         | 49/100 [00:27<00:28,  1.79it/s]"
     ]
    },
    {
     "name": "stdout",
     "output_type": "stream",
     "text": [
      "179/179 [==============================] - ETA: 37s - loss: 0.69 - ETA: 0s - loss: 0.6926 - ETA: 0s - loss: 0.691 - 0s 838us/step - loss: 0.6877\n"
     ]
    },
    {
     "name": "stderr",
     "output_type": "stream",
     "text": [
      "\r",
      " 50%|████████████████████████████████████████▌                                        | 50/100 [00:27<00:30,  1.66it/s]"
     ]
    },
    {
     "name": "stdout",
     "output_type": "stream",
     "text": [
      "179/179 [==============================] - ETA: 36s - loss: 0.32 - ETA: 0s - loss: 1.5052 - ETA: 0s - loss: 1.061 - ETA: 0s - loss: 0.931 - 0s 921us/step - loss: 0.9172\n"
     ]
    },
    {
     "name": "stderr",
     "output_type": "stream",
     "text": [
      "\r",
      " 51%|█████████████████████████████████████████▎                                       | 51/100 [00:28<00:28,  1.75it/s]"
     ]
    },
    {
     "name": "stdout",
     "output_type": "stream",
     "text": [
      "179/179 [==============================] - ETA: 35s - loss: 10.896 - ETA: 0s - loss: 1.8549  - ETA: 0s - loss: 1.247 - 0s 821us/step - loss: 1.0571\n"
     ]
    },
    {
     "name": "stderr",
     "output_type": "stream",
     "text": [
      "\r",
      " 52%|██████████████████████████████████████████                                       | 52/100 [00:28<00:26,  1.83it/s]"
     ]
    },
    {
     "name": "stdout",
     "output_type": "stream",
     "text": [
      "179/179 [==============================] - ETA: 44s - loss: 5.3025e- - ETA: 0s - loss: 1.5540     - ETA: 0s - loss: 1.124 - 0s 838us/step - loss: 0.9859\n"
     ]
    },
    {
     "name": "stderr",
     "output_type": "stream",
     "text": [
      "\r",
      " 53%|██████████████████████████████████████████▉                                      | 53/100 [00:29<00:25,  1.86it/s]"
     ]
    },
    {
     "name": "stdout",
     "output_type": "stream",
     "text": [
      "179/179 [==============================] - ETA: 35s - loss: 0.69 - ETA: 0s - loss: 0.6932 - ETA: 0s - loss: 0.691 - ETA: 0s - loss: 0.690 - 0s 895us/step - loss: 0.6897\n"
     ]
    },
    {
     "name": "stderr",
     "output_type": "stream",
     "text": [
      "\r",
      " 54%|███████████████████████████████████████████▋                                     | 54/100 [00:29<00:23,  1.92it/s]"
     ]
    },
    {
     "name": "stdout",
     "output_type": "stream",
     "text": [
      "179/179 [==============================] - ETA: 38s - loss: 0.0000e+ - ETA: 0s - loss: 10.6037   - ETA: 0s - loss: 7.4190 - 0s 803us/step - loss: 5.6287\n"
     ]
    },
    {
     "name": "stderr",
     "output_type": "stream",
     "text": [
      "\r",
      " 55%|████████████████████████████████████████████▌                                    | 55/100 [00:30<00:23,  1.94it/s]"
     ]
    },
    {
     "name": "stdout",
     "output_type": "stream",
     "text": [
      "179/179 [==============================] - ETA: 38s - loss: 0.00 - ETA: 0s - loss: 6.0377 - ETA: 0s - loss: 3.582 - ETA: 0s - loss: 2.543 - 0s 942us/step - loss: 2.3878\n"
     ]
    },
    {
     "name": "stderr",
     "output_type": "stream",
     "text": [
      "\r",
      " 56%|█████████████████████████████████████████████▎                                   | 56/100 [00:30<00:22,  1.94it/s]"
     ]
    },
    {
     "name": "stdout",
     "output_type": "stream",
     "text": [
      "179/179 [==============================] - ETA: 37s - loss: 25.066 - ETA: 0s - loss: 8.6466  - ETA: 0s - loss: 5.548 - ETA: 0s - loss: 4.058 - 0s 949us/step - loss: 3.7972\n"
     ]
    },
    {
     "name": "stderr",
     "output_type": "stream",
     "text": [
      "\r",
      " 57%|██████████████████████████████████████████████▏                                  | 57/100 [00:31<00:22,  1.94it/s]"
     ]
    },
    {
     "name": "stdout",
     "output_type": "stream",
     "text": [
      "179/179 [==============================] - ETA: 38s - loss: 17.972 - ETA: 0s - loss: 0.9523  - ETA: 0s - loss: 0.807 - 0s 784us/step - loss: 0.7726\n"
     ]
    },
    {
     "name": "stderr",
     "output_type": "stream",
     "text": [
      "\r",
      " 58%|██████████████████████████████████████████████▉                                  | 58/100 [00:31<00:21,  1.97it/s]"
     ]
    },
    {
     "name": "stdout",
     "output_type": "stream",
     "text": [
      "179/179 [==============================] - ETA: 37s - loss: 6.36 - ETA: 0s - loss: 2.7205 - ETA: 0s - loss: 1.621 - 0s 837us/step - loss: 1.3255\n"
     ]
    },
    {
     "name": "stderr",
     "output_type": "stream",
     "text": [
      "\r",
      " 59%|███████████████████████████████████████████████▊                                 | 59/100 [00:32<00:20,  2.00it/s]"
     ]
    },
    {
     "name": "stdout",
     "output_type": "stream",
     "text": [
      "179/179 [==============================] - ETA: 37s - loss: 5.83 - ETA: 0s - loss: 1.7237 - ETA: 0s - loss: 1.218 - 0s 814us/step - loss: 1.0655\n"
     ]
    },
    {
     "name": "stderr",
     "output_type": "stream",
     "text": [
      "\r",
      " 60%|████████████████████████████████████████████████▌                                | 60/100 [00:32<00:19,  2.00it/s]"
     ]
    },
    {
     "name": "stdout",
     "output_type": "stream",
     "text": [
      "179/179 [==============================] - ETA: 37s - loss: 53.656 - ETA: 0s - loss: 3.7208  - ETA: 0s - loss: 2.064 - ETA: 0s - loss: 1.585 - 0s 890us/step - loss: 1.5608\n"
     ]
    },
    {
     "name": "stderr",
     "output_type": "stream",
     "text": [
      "\r",
      " 61%|█████████████████████████████████████████████████▍                               | 61/100 [00:33<00:19,  2.00it/s]"
     ]
    },
    {
     "name": "stdout",
     "output_type": "stream",
     "text": [
      "179/179 [==============================] - ETA: 1:15 - loss: 0.693 - ETA: 0s - loss: 0.6910  - ETA: 0s - loss: 0.688 - 1s 803us/step - loss: 0.6877\n"
     ]
    },
    {
     "name": "stderr",
     "output_type": "stream",
     "text": [
      "\r",
      " 62%|██████████████████████████████████████████████████▏                              | 62/100 [00:34<00:21,  1.79it/s]"
     ]
    },
    {
     "name": "stdout",
     "output_type": "stream",
     "text": [
      "179/179 [==============================] - ETA: 39s - loss: 0.69 - ETA: 0s - loss: 0.6917 - ETA: 0s - loss: 0.690 - ETA: 0s - loss: 0.688 - 0s 880us/step - loss: 0.6878\n"
     ]
    },
    {
     "name": "stderr",
     "output_type": "stream",
     "text": [
      "\r",
      " 63%|███████████████████████████████████████████████████                              | 63/100 [00:34<00:20,  1.83it/s]"
     ]
    },
    {
     "name": "stdout",
     "output_type": "stream",
     "text": [
      "179/179 [==============================] - ETA: 35s - loss: 0.69 - ETA: 0s - loss: 0.6918 - ETA: 0s - loss: 0.688 - ETA: 0s - loss: 0.688 - 0s 933us/step - loss: 0.6876\n"
     ]
    },
    {
     "name": "stderr",
     "output_type": "stream",
     "text": [
      "\r",
      " 64%|███████████████████████████████████████████████████▊                             | 64/100 [00:35<00:19,  1.87it/s]"
     ]
    },
    {
     "name": "stdout",
     "output_type": "stream",
     "text": [
      "179/179 [==============================] - ETA: 38s - loss: 0.17 - ETA: 0s - loss: 7.5909 - ETA: 0s - loss: 4.321 - 0s 825us/step - loss: 3.2278\n"
     ]
    },
    {
     "name": "stderr",
     "output_type": "stream",
     "text": [
      "\r",
      " 65%|████████████████████████████████████████████████████▋                            | 65/100 [00:35<00:18,  1.93it/s]"
     ]
    },
    {
     "name": "stdout",
     "output_type": "stream",
     "text": [
      "179/179 [==============================] - ETA: 35s - loss: 0.69 - ETA: 0s - loss: 0.6930 - ETA: 0s - loss: 0.689 - ETA: 0s - loss: 0.688 - 0s 890us/step - loss: 0.6882\n"
     ]
    },
    {
     "name": "stderr",
     "output_type": "stream",
     "text": [
      "\r",
      " 66%|█████████████████████████████████████████████████████▍                           | 66/100 [00:36<00:17,  1.95it/s]"
     ]
    },
    {
     "name": "stdout",
     "output_type": "stream",
     "text": [
      "179/179 [==============================] - ETA: 40s - loss: 49.675 - ETA: 0s - loss: 3.0891  - ETA: 0s - loss: 1.859 - ETA: 0s - loss: 1.481 - 0s 867us/step - loss: 1.4812\n"
     ]
    },
    {
     "name": "stderr",
     "output_type": "stream",
     "text": [
      "\r",
      " 67%|██████████████████████████████████████████████████████▎                          | 67/100 [00:36<00:17,  1.92it/s]"
     ]
    },
    {
     "name": "stdout",
     "output_type": "stream",
     "text": [
      "179/179 [==============================] - ETA: 36s - loss: 81.363 - ETA: 0s - loss: 8.1752  - ETA: 0s - loss: 4.955 - 0s 834us/step - loss: 3.5509\n"
     ]
    },
    {
     "name": "stderr",
     "output_type": "stream",
     "text": [
      "\r",
      " 68%|███████████████████████████████████████████████████████                          | 68/100 [00:37<00:16,  1.97it/s]"
     ]
    },
    {
     "name": "stdout",
     "output_type": "stream",
     "text": [
      "179/179 [==============================] - ETA: 37s - loss: 2.2445e- - ETA: 0s - loss: 1.8807     - ETA: 0s - loss: 1.276 - 0s 830us/step - loss: 1.1024\n"
     ]
    },
    {
     "name": "stderr",
     "output_type": "stream",
     "text": [
      "\r",
      " 69%|███████████████████████████████████████████████████████▉                         | 69/100 [00:37<00:15,  1.99it/s]"
     ]
    },
    {
     "name": "stdout",
     "output_type": "stream",
     "text": [
      "179/179 [==============================] - ETA: 39s - loss: 0.69 - ETA: 0s - loss: 0.6906 - ETA: 0s - loss: 0.689 - 0s 810us/step - loss: 0.6853\n"
     ]
    },
    {
     "name": "stderr",
     "output_type": "stream",
     "text": [
      "\r",
      " 70%|████████████████████████████████████████████████████████▋                        | 70/100 [00:38<00:15,  1.98it/s]"
     ]
    },
    {
     "name": "stdout",
     "output_type": "stream",
     "text": [
      "179/179 [==============================] - ETA: 36s - loss: 0.69 - ETA: 0s - loss: 0.6932 - ETA: 0s - loss: 0.692 - ETA: 0s - loss: 0.689 - 0s 937us/step - loss: 0.6880\n"
     ]
    },
    {
     "name": "stderr",
     "output_type": "stream",
     "text": [
      "\r",
      " 71%|█████████████████████████████████████████████████████████▌                       | 71/100 [00:38<00:14,  2.00it/s]"
     ]
    },
    {
     "name": "stdout",
     "output_type": "stream",
     "text": [
      "179/179 [==============================] - ETA: 38s - loss: 0.69 - ETA: 0s - loss: 0.6921 - ETA: 0s - loss: 0.690 - 0s 843us/step - loss: 0.6880\n"
     ]
    },
    {
     "name": "stderr",
     "output_type": "stream",
     "text": [
      "\r",
      " 72%|██████████████████████████████████████████████████████████▎                      | 72/100 [00:39<00:13,  2.00it/s]"
     ]
    },
    {
     "name": "stdout",
     "output_type": "stream",
     "text": [
      "179/179 [==============================] - ETA: 36s - loss: 0.00 - ETA: 0s - loss: 6.2696 - ETA: 0s - loss: 3.438 - 0s 807us/step - loss: 2.6026\n"
     ]
    },
    {
     "name": "stderr",
     "output_type": "stream",
     "text": [
      "\r",
      " 73%|███████████████████████████████████████████████████████████▏                     | 73/100 [00:39<00:13,  2.02it/s]"
     ]
    },
    {
     "name": "stdout",
     "output_type": "stream",
     "text": [
      "179/179 [==============================] - ETA: 38s - loss: 0.35 - ETA: 0s - loss: 2.4529 - ETA: 0s - loss: 1.461 - 0s 844us/step - loss: 1.1949\n"
     ]
    },
    {
     "name": "stderr",
     "output_type": "stream",
     "text": [
      "\r",
      " 74%|███████████████████████████████████████████████████████████▉                     | 74/100 [00:40<00:14,  1.80it/s]"
     ]
    },
    {
     "name": "stdout",
     "output_type": "stream",
     "text": [
      "179/179 [==============================] - ETA: 36s - loss: 0.69 - ETA: 0s - loss: 0.6899 - ETA: 0s - loss: 0.688 - 0s 841us/step - loss: 0.6862\n"
     ]
    },
    {
     "name": "stderr",
     "output_type": "stream",
     "text": [
      "\r",
      " 75%|████████████████████████████████████████████████████████████▊                    | 75/100 [00:40<00:13,  1.88it/s]"
     ]
    },
    {
     "name": "stdout",
     "output_type": "stream",
     "text": [
      "179/179 [==============================] - ETA: 36s - loss: 0.69 - ETA: 0s - loss: 0.6907 - ETA: 0s - loss: 0.687 - ETA: 0s - loss: 0.686 - 0s 905us/step - loss: 0.6863\n"
     ]
    },
    {
     "name": "stderr",
     "output_type": "stream",
     "text": [
      "\r",
      " 76%|█████████████████████████████████████████████████████████████▌                   | 76/100 [00:41<00:12,  1.92it/s]"
     ]
    },
    {
     "name": "stdout",
     "output_type": "stream",
     "text": [
      "179/179 [==============================] - ETA: 37s - loss: 0.00 - ETA: 0s - loss: 14.84 - ETA: 0s - loss: 8.3404 - 0s 797us/step - loss: 6.2079\n"
     ]
    },
    {
     "name": "stderr",
     "output_type": "stream",
     "text": [
      "\r",
      " 77%|██████████████████████████████████████████████████████████████▎                  | 77/100 [00:41<00:11,  1.96it/s]"
     ]
    },
    {
     "name": "stdout",
     "output_type": "stream",
     "text": [
      "179/179 [==============================] - ETA: 37s - loss: 1.21 - ETA: 0s - loss: 0.7015 - ETA: 0s - loss: 0.689 - ETA: 0s - loss: 0.688 - 0s 920us/step - loss: 0.6863\n"
     ]
    },
    {
     "name": "stderr",
     "output_type": "stream",
     "text": [
      "\r",
      " 78%|███████████████████████████████████████████████████████████████▏                 | 78/100 [00:42<00:11,  1.95it/s]"
     ]
    },
    {
     "name": "stdout",
     "output_type": "stream",
     "text": [
      "179/179 [==============================] - ETA: 41s - loss: 30.547 - ETA: 0s - loss: 3.6005  - ETA: 0s - loss: 2.076 - ETA: 0s - loss: 1.577 - 0s 1ms/step - loss: 1.4153\n"
     ]
    },
    {
     "name": "stderr",
     "output_type": "stream",
     "text": [
      "\r",
      " 79%|███████████████████████████████████████████████████████████████▉                 | 79/100 [00:42<00:11,  1.88it/s]"
     ]
    },
    {
     "name": "stdout",
     "output_type": "stream",
     "text": [
      "179/179 [==============================] - ETA: 41s - loss: 0.69 - ETA: 0s - loss: 0.6908 - ETA: 0s - loss: 0.689 - ETA: 0s - loss: 0.689 - 0s 947us/step - loss: 0.6891\n"
     ]
    },
    {
     "name": "stderr",
     "output_type": "stream",
     "text": [
      "\r",
      " 80%|████████████████████████████████████████████████████████████████▊                | 80/100 [00:43<00:10,  1.85it/s]"
     ]
    },
    {
     "name": "stdout",
     "output_type": "stream",
     "text": [
      "179/179 [==============================] - ETA: 37s - loss: 0.69 - ETA: 0s - loss: 0.6922 - ETA: 0s - loss: 0.690 - ETA: 0s - loss: 0.688 - 0s 938us/step - loss: 0.6882\n"
     ]
    },
    {
     "name": "stderr",
     "output_type": "stream",
     "text": [
      "\r",
      " 81%|█████████████████████████████████████████████████████████████████▌               | 81/100 [00:43<00:10,  1.87it/s]"
     ]
    },
    {
     "name": "stdout",
     "output_type": "stream",
     "text": [
      "179/179 [==============================] - ETA: 38s - loss: 0.69 - ETA: 0s - loss: 0.6920 - ETA: 0s - loss: 0.691 - ETA: 0s - loss: 0.689 - 0s 936us/step - loss: 0.6892\n"
     ]
    },
    {
     "name": "stderr",
     "output_type": "stream",
     "text": [
      "\r",
      " 82%|██████████████████████████████████████████████████████████████████▍              | 82/100 [00:44<00:09,  1.87it/s]"
     ]
    },
    {
     "name": "stdout",
     "output_type": "stream",
     "text": [
      "179/179 [==============================] - ETA: 41s - loss: 1.6961e- - ETA: 0s - loss: 4.3151     - ETA: 0s - loss: 2.458 - ETA: 0s - loss: 1.873 - 0s 896us/step - loss: 1.8407\n"
     ]
    },
    {
     "name": "stderr",
     "output_type": "stream",
     "text": [
      "\r",
      " 83%|███████████████████████████████████████████████████████████████████▏             | 83/100 [00:44<00:09,  1.87it/s]"
     ]
    },
    {
     "name": "stdout",
     "output_type": "stream",
     "text": [
      "179/179 [==============================] - ETA: 38s - loss: 0.69 - ETA: 0s - loss: 0.6927 - ETA: 0s - loss: 0.691 - ETA: 0s - loss: 0.690 - 0s 902us/step - loss: 0.6902\n"
     ]
    },
    {
     "name": "stderr",
     "output_type": "stream",
     "text": [
      "\r",
      " 84%|████████████████████████████████████████████████████████████████████             | 84/100 [00:45<00:08,  1.88it/s]"
     ]
    },
    {
     "name": "stdout",
     "output_type": "stream",
     "text": [
      "179/179 [==============================] - ETA: 37s - loss: 0.69 - ETA: 0s - loss: 0.6930 - ETA: 0s - loss: 0.691 - ETA: 0s - loss: 0.689 - 0s 977us/step - loss: 0.6886\n"
     ]
    },
    {
     "name": "stderr",
     "output_type": "stream",
     "text": [
      "\r",
      " 85%|████████████████████████████████████████████████████████████████████▊            | 85/100 [00:45<00:07,  1.89it/s]"
     ]
    },
    {
     "name": "stdout",
     "output_type": "stream",
     "text": [
      "179/179 [==============================] - ETA: 1:18 - loss: 0.693 - ETA: 0s - loss: 0.6923  - ETA: 0s - loss: 0.691 - ETA: 0s - loss: 0.688 - 1s 950us/step - loss: 0.6878\n"
     ]
    },
    {
     "name": "stderr",
     "output_type": "stream",
     "text": [
      "\r",
      " 86%|█████████████████████████████████████████████████████████████████████▋           | 86/100 [00:46<00:08,  1.68it/s]"
     ]
    },
    {
     "name": "stdout",
     "output_type": "stream",
     "text": [
      "179/179 [==============================] - ETA: 37s - loss: 0.69 - ETA: 0s - loss: 0.6902 - ETA: 0s - loss: 0.690 - ETA: 0s - loss: 0.686 - 0s 931us/step - loss: 0.6850\n"
     ]
    },
    {
     "name": "stderr",
     "output_type": "stream",
     "text": [
      "\r",
      " 87%|██████████████████████████████████████████████████████████████████████▍          | 87/100 [00:47<00:07,  1.77it/s]"
     ]
    },
    {
     "name": "stdout",
     "output_type": "stream",
     "text": [
      "179/179 [==============================] - ETA: 40s - loss: 0.69 - ETA: 0s - loss: 0.6907 - ETA: 0s - loss: 0.689 - 0s 806us/step - loss: 0.6885\n"
     ]
    },
    {
     "name": "stderr",
     "output_type": "stream",
     "text": [
      "\r",
      " 88%|███████████████████████████████████████████████████████████████████████▎         | 88/100 [00:47<00:06,  1.83it/s]"
     ]
    },
    {
     "name": "stdout",
     "output_type": "stream",
     "text": [
      "179/179 [==============================] - ETA: 38s - loss: 0.0000e+ - ETA: 0s - loss: 11.7324   - ETA: 0s - loss: 5.9605 - 0s 833us/step - loss: 4.3428\n"
     ]
    },
    {
     "name": "stderr",
     "output_type": "stream",
     "text": [
      "\r",
      " 89%|████████████████████████████████████████████████████████████████████████         | 89/100 [00:48<00:05,  1.88it/s]"
     ]
    },
    {
     "name": "stdout",
     "output_type": "stream",
     "text": [
      "179/179 [==============================] - ETA: 36s - loss: 1.7191e- - ETA: 0s - loss: 7.4667     - ETA: 0s - loss: 4.150 - 0s 826us/step - loss: 3.0460\n"
     ]
    },
    {
     "name": "stderr",
     "output_type": "stream",
     "text": [
      "\r",
      " 90%|████████████████████████████████████████████████████████████████████████▉        | 90/100 [00:48<00:05,  1.93it/s]"
     ]
    },
    {
     "name": "stdout",
     "output_type": "stream",
     "text": [
      "179/179 [==============================] - ETA: 38s - loss: 0.00 - ETA: 0s - loss: 1.2191 - ETA: 0s - loss: 0.935 - ETA: 0s - loss: 0.850 - 0s 910us/step - loss: 0.8413\n"
     ]
    },
    {
     "name": "stderr",
     "output_type": "stream",
     "text": [
      "\r",
      " 91%|█████████████████████████████████████████████████████████████████████████▋       | 91/100 [00:49<00:04,  1.95it/s]"
     ]
    },
    {
     "name": "stdout",
     "output_type": "stream",
     "text": [
      "179/179 [==============================] - ETA: 36s - loss: 0.69 - ETA: 0s - loss: 0.6898 - ETA: 0s - loss: 0.688 - 0s 857us/step - loss: 0.6854\n"
     ]
    },
    {
     "name": "stderr",
     "output_type": "stream",
     "text": [
      "\r",
      " 92%|██████████████████████████████████████████████████████████████████████████▌      | 92/100 [00:49<00:04,  1.96it/s]"
     ]
    },
    {
     "name": "stdout",
     "output_type": "stream",
     "text": [
      "179/179 [==============================] - ETA: 37s - loss: 2.6900e- - ETA: 0s - loss: 3.6373     - ETA: 0s - loss: 2.172 - 0s 788us/step - loss: 1.7566\n"
     ]
    },
    {
     "name": "stderr",
     "output_type": "stream",
     "text": [
      "\r",
      " 93%|███████████████████████████████████████████████████████████████████████████▎     | 93/100 [00:50<00:03,  1.98it/s]"
     ]
    },
    {
     "name": "stdout",
     "output_type": "stream",
     "text": [
      "179/179 [==============================] - ETA: 35s - loss: 1.2589e- - ETA: 0s - loss: 3.2528     - ETA: 0s - loss: 1.849 - 0s 833us/step - loss: 1.4347\n"
     ]
    },
    {
     "name": "stderr",
     "output_type": "stream",
     "text": [
      "\r",
      " 94%|████████████████████████████████████████████████████████████████████████████▏    | 94/100 [00:50<00:02,  2.02it/s]"
     ]
    },
    {
     "name": "stdout",
     "output_type": "stream",
     "text": [
      "179/179 [==============================] - ETA: 38s - loss: 0.69 - ETA: 0s - loss: 0.6928 - ETA: 0s - loss: 0.689 - ETA: 0s - loss: 0.687 - 0s 873us/step - loss: 0.6878\n"
     ]
    },
    {
     "name": "stderr",
     "output_type": "stream",
     "text": [
      "\r",
      " 95%|████████████████████████████████████████████████████████████████████████████▉    | 95/100 [00:51<00:02,  2.01it/s]"
     ]
    },
    {
     "name": "stdout",
     "output_type": "stream",
     "text": [
      "179/179 [==============================] - ETA: 35s - loss: 0.69 - ETA: 0s - loss: 0.6926 - ETA: 0s - loss: 0.690 - ETA: 0s - loss: 0.690 - 0s 912us/step - loss: 0.6899\n"
     ]
    },
    {
     "name": "stderr",
     "output_type": "stream",
     "text": [
      "\r",
      " 96%|█████████████████████████████████████████████████████████████████████████████▊   | 96/100 [00:51<00:01,  2.03it/s]"
     ]
    },
    {
     "name": "stdout",
     "output_type": "stream",
     "text": [
      "179/179 [==============================] - ETA: 37s - loss: 1.83 - ETA: 0s - loss: 0.7202 - ETA: 0s - loss: 0.704 - 0s 796us/step - loss: 0.6975\n"
     ]
    },
    {
     "name": "stderr",
     "output_type": "stream",
     "text": [
      "\r",
      " 97%|██████████████████████████████████████████████████████████████████████████████▌  | 97/100 [00:52<00:01,  2.02it/s]"
     ]
    },
    {
     "name": "stdout",
     "output_type": "stream",
     "text": [
      "179/179 [==============================] - ETA: 40s - loss: 5.3454e- - ETA: 0s - loss: 5.6625     - ETA: 0s - loss: 3.181 - 0s 833us/step - loss: 2.3483\n"
     ]
    },
    {
     "name": "stderr",
     "output_type": "stream",
     "text": [
      "\r",
      " 98%|███████████████████████████████████████████████████████████████████████████████▍ | 98/100 [00:52<00:01,  1.78it/s]"
     ]
    },
    {
     "name": "stdout",
     "output_type": "stream",
     "text": [
      "179/179 [==============================] - ETA: 36s - loss: 0.69 - ETA: 0s - loss: 0.6926 - ETA: 0s - loss: 0.690 - ETA: 0s - loss: 0.688 - 0s 939us/step - loss: 0.6879\n"
     ]
    },
    {
     "name": "stderr",
     "output_type": "stream",
     "text": [
      "\r",
      " 99%|████████████████████████████████████████████████████████████████████████████████▏| 99/100 [00:53<00:00,  1.84it/s]"
     ]
    },
    {
     "name": "stdout",
     "output_type": "stream",
     "text": [
      "179/179 [==============================] - ETA: 50s - loss: 2.7763e- - ETA: 0s - loss: 11.9954   - ETA: 0s - loss: 7.0421 - ETA: 0s - loss: 5.218 - 0s 933us/step - loss: 4.9145\n"
     ]
    },
    {
     "name": "stderr",
     "output_type": "stream",
     "text": [
      "100%|████████████████████████████████████████████████████████████████████████████████| 100/100 [00:53<00:00,  1.80it/s]\n"
     ]
    },
    {
     "data": {
      "text/html": [
       "<div>\n",
       "<style scoped>\n",
       "    .dataframe tbody tr th:only-of-type {\n",
       "        vertical-align: middle;\n",
       "    }\n",
       "\n",
       "    .dataframe tbody tr th {\n",
       "        vertical-align: top;\n",
       "    }\n",
       "\n",
       "    .dataframe thead th {\n",
       "        text-align: right;\n",
       "    }\n",
       "</style>\n",
       "<table border=\"1\" class=\"dataframe\">\n",
       "  <thead>\n",
       "    <tr style=\"text-align: right;\">\n",
       "      <th></th>\n",
       "      <th>MCC</th>\n",
       "      <th>F1 score</th>\n",
       "      <th>Accuracy</th>\n",
       "      <th>TP rate</th>\n",
       "      <th>TN rate</th>\n",
       "      <th>PR AUC</th>\n",
       "      <th>ROC AUC</th>\n",
       "    </tr>\n",
       "  </thead>\n",
       "  <tbody>\n",
       "    <tr>\n",
       "      <th>Artficial neural network</th>\n",
       "      <td>0.0</td>\n",
       "      <td>0.669</td>\n",
       "      <td>0.669</td>\n",
       "      <td>0.01</td>\n",
       "      <td>0.99</td>\n",
       "      <td>0.341</td>\n",
       "      <td>0.506</td>\n",
       "    </tr>\n",
       "  </tbody>\n",
       "</table>\n",
       "</div>"
      ],
      "text/plain": [
       "                          MCC  F1 score  Accuracy  TP rate  TN rate  PR AUC  \\\n",
       "Artficial neural network  0.0     0.669     0.669     0.01     0.99   0.341   \n",
       "\n",
       "                          ROC AUC  \n",
       "Artficial neural network    0.506  "
      ]
     },
     "execution_count": 13,
     "metadata": {},
     "output_type": "execute_result"
    }
   ],
   "source": [
    "# 60 / 40 Model: ANN\n",
    "# Declare array for metrics\n",
    "ANarray = np.empty([0,7],int)\n",
    "\n",
    "# Run a loop 100 times\n",
    "for i in tqdm(range(100)):\n",
    "    # Shuffle the dataframe \n",
    "    shuffle0 = df.sample(frac=1)\n",
    "    x0 = shuffle0[['sex','smoking','diabetes','high_blood_pressure','anaemia','age','ejection_fraction','serum_sodium','serum_creatinine','platelets','creatinine_phosphokinase']]\n",
    "    y0 = shuffle0[['DEATH_EVENT']]\n",
    "    # train and test split the dataframe based on 8/2 split\n",
    "    x_train0, x_test0, y_train0, y_test0 = train_test_split(x0, y0, test_size=0.4)\n",
    "    # run model and get prediction variable\n",
    "    ann = kr.Sequential()\n",
    "    # Add one input layer\n",
    "    ann.add(Dense(1, activation='relu',kernel_initializer = 'uniform'))\n",
    "    # Add one hidden layer \n",
    "    ann.add(Dense(100, activation='relu',kernel_initializer = 'uniform'))\n",
    "    # Add output layer\n",
    "    ann.add(Dense(1, activation='sigmoid',kernel_initializer = 'uniform'))\n",
    "    ann.compile(loss='binary_crossentropy',optimizer='adam')\n",
    "    ann.fit(x_train0,y_train0,epochs=1, batch_size=1, verbose=1)\n",
    "    y_pred0=ann.predict(x_test0)\n",
    "    # return metrics on each prediction \n",
    "    c0 = confusion_matrix(y_test0, y_pred0.round())\n",
    "    m1 = mcc(c0[0][0],c0[1][0],c0[0][1],c0[1][1])\n",
    "    m2 = f1_score(y_test0, y_pred0.round(),average='micro')\n",
    "    m3 = accuracy_score(y_test0, y_pred0.round())\n",
    "    m4 = TP0 = c0[1][1] / (c0[1][1]+c0[1][0])\n",
    "    m5 = TN0 = c0[0][0] / (c0[0][0]+c0[0][1])\n",
    "    m6 = average_precision_score(y_test0, y_pred0)\n",
    "    m7 = roc_auc_score(y_test0,y_pred0)\n",
    "    # populate metrics into dataframe\n",
    "    ANarray = np.append(ANarray,np.array([[m1,m2,m3,m4,m5,m6,m7]]), axis=0)\n",
    "\n",
    "# Calculate the mean values of our result array\n",
    "MLmodel0 = pd.DataFrame(ANarray)\n",
    "MLmodel0.columns = ['MCC','F1 score','Accuracy','TP rate','TN rate','PR AUC','ROC AUC']\n",
    "MLSum0 = MLmodel0.mean(axis=0)\n",
    "MLSum0 = pd.DataFrame(MLSum0)\n",
    "MLSum0 = MLSum0.transpose()\n",
    "\n",
    "# Cleaning up the results\n",
    "ML0 = MLSum0.rename(index={0:'Artficial neural network'})\n",
    "ML0['MCC']=ML0['MCC'].round(decimals = 3)\n",
    "ML0['F1 score']=ML0['F1 score'].round(decimals = 3)\n",
    "ML0['Accuracy']=ML0['Accuracy'].round(decimals = 3)\n",
    "ML0['TP rate']=ML0['TP rate'].round(decimals = 3)\n",
    "ML0['TN rate']=ML0['TN rate'].round(decimals = 3)\n",
    "ML0['PR AUC']=ML0['PR AUC'].round(decimals = 3)\n",
    "ML0['ROC AUC']=ML0['ROC AUC'].round(decimals = 3)\n",
    "ML0"
   ]
  },
  {
   "cell_type": "markdown",
   "metadata": {},
   "source": [
    "## Q2. Design and develop your own ML solution for this problem. The proposed solution should be different from all approaches mentioned in the provided article. Compare the result with reported methods in the article. Write a technical report summarising your solution design and outcomes."
   ]
  },
  {
   "attachments": {
    "image1.png": {
     "image/png": "[encoded data removed]"
    },
    "image2.png": {
     "image/png": "[encoded data removed]"
    },
    "image3.png": {
     "image/png": "[encoded data removed]"
    },
    "image4.png": {
     "image/png": "[encoded data removed]"
    },
    "table1.png": {
     "image/png": "[encoded data removed]"
    }
   },
   "cell_type": "markdown",
   "metadata": {},
   "source": [
    "__i) Motivation behind the proposed solution.__\n",
    "\n",
    "“The solution and method in the article, the programming strategy utilised is sloppy.”\n",
    "* __No Data pre-processing scenarios are considered:__ \n",
    "Data isn’t normalised at all; some metrics have greater ranges and scales.\n",
    "Data isn’t scaled before or after splitting, let weighting impact results. \n",
    "Some classifiers had different outputs based on data ranges and scales.\n",
    "\n",
    "\n",
    "* __Model testing process is inefficient:__ Each model runs independently and manually. \n",
    "\n",
    "* __Model Evaluation is done once per model and once per data scenario.__\n",
    "\t\n",
    "    \n",
    "    Example: Logistic Regression Feature Selection & Model used in the article.\n",
    "    * How do we know this model is the best model for our classifier compared to other models?\n",
    "    * How do we know if the results of the model is replicable and not overfitting? \n",
    "    * How do we know that this combination of feature selection and model is optimal for the data in the scenario if the data is processed or not? \n",
    "    * How would the researchers know how to optimise without testing every major combination of model and feature selection? This is time consuming and mentally draining.\n",
    "\n",
    "\n",
    "__ii) How the proposed solution is different from existing ones.__\n",
    "\n",
    "“A self-optimising feature selection model that selects the best feature-model combination based on simple metrics to allow researchers to make choices on data correlation more efficiently and with less time and effort.” \n",
    "\n",
    "Instead of requiring testing of feature selection by each model and repeating the test for each model-data combination (like in the article), my model does this testing in one clean sweep and then incorporates the logic to decide which model and feature combination is the most ‘optimal’ for your data.\n",
    "\n",
    "Other models use cross validation on one model to find the best solution, this process needs to be repeated for each model. This is time consuming and draining on mental faculties. My method is plug and play, does all the logical heavy lifting and can be scaled and adapted to any scoring metric or model, regardless of classification or regression type.\n",
    "\n",
    "__iii) Detail description of the model including all parameters so that any reader can implement your model.__\n",
    "\n",
    "__Phase 1: Data Normalization:__ \n",
    "* The base data is pre-processed:\n",
    "    * Time column data has been converted into discrete values.\n",
    "        * \tThe time column is expressed in days. They are masked into values from 0 to 12 in intervals of every 30 days.\n",
    "        *\tFor example: If the values for time = 29, it becomes 0 as 0 – 30 is month 0.\n",
    "        *\tFor example: If the values for time = 49, it becomes 1 as 30 – 60 is month 1\n",
    "        *   Time column data has been scaled based on discrete values.\n",
    "        *   Min Max scaler is applied to columns that require it.\n",
    "        *   In this scenario, the following columns:\n",
    "                age, ejection_fraction, serum_sodium, serum_creatinine, platelets, creatinine_phosphokinase, time.\n",
    "\n",
    "__Phase 2: EFS Model Funnel:__ \n",
    "*   Using the EFS model, we pass in each of the ML model we want to test on. \n",
    "*\tEFS Model: (args: min_features=1, max_features=10, scoring=’f1’,cv=5)\n",
    "    * EFS or Exhaustive Feature Selection from mlextend, this is a feature selection algo that acts as a wrapper approach enabling the brute-force scenario evaluation of feature subsets. It selects the best subset by optimizing a given performance metric given a regressor or classifier model. \n",
    "*\tModels and arguments used for replication: \n",
    "    *\tSGD (args: )\n",
    "    *\tKNeighborsClassifier (args: n_neighbors=2 )\n",
    "    *\tSVC (args: )\n",
    "    *\tGaussian Naïve Bayes (args: )\n",
    "    *\tLogistic Regression (args: )\n",
    "*\tEFS has a series of metrics, the ‘best’ result Dataframe is selected after each combination of DV & CM, ‘best’ being classified as the highest F1 score. \n",
    "\n",
    "__Phase 3: Optimization__ \n",
    "*\tThe result Dataframe from each combination is combined into one Dataframe.\n",
    "*\tThe highest F1 score Dataframe is selected.\n",
    "*\tThis F1 score Dataframe provides you with the optimal Feature Selection and Model combination.\n",
    "\n",
    "__Phase 4: Model-Metric Loop__\n",
    "*\tWe can then set up the appropriate data by applying the feature selection given in the F1 Dataframe at the end of Phase 3.\n",
    "*\tWe set up the optimal model given in the F1 Dataframe at the end of Phase 3, in the 100-range loop. \n",
    "*\tWe pass in our Feature Selection data into our Model loop, run the model 100 times and extract the optimal metrics for comparison.\n",
    "\n",
    "\n",
    "__iv) Description of experimental protocol.__\n",
    "\n",
    "* __Phase 1:__ The data is pre-processed and split in training and test models. The training and test models are “wrapped” into a machine learning model. There is an instance of each ML model that we want to test. For example; we have the KKN model with the split data, the SGD model with split data etc.\n",
    "\n",
    "\n",
    "* __Phase 2:__ The ML models are ran inside the EGS model, which acts as a funnel. EGS requires a min and max function of features and runs each ML model with every viable combination of features between the defined feature interval, finding the optimal features for that model. This is scored based on the ML model’s F1 score outcome.\n",
    "\n",
    "\n",
    "* __Phase 3:__ Once each ML model’s optimal features and F1 score is generated, each ML model’s scores are plotted in a Dataframe and ordered based on the highest F1 score. Evaluation metrics are given showing the CI bound, Std dev and Std Err of the model. The weightings are used to evaluate the “potential” of the model.   \n",
    "\n",
    "\n",
    "* __Phase 4:__ Once we have selected the “optimal” model, we can then simply plug the Model into out evaluation loop. We also remove the features not given in our model from our dataset and plug the dataset into the selected model inside our evaluation loop. Finally, we run the evaluation loop 100 times and return the “optimal option” based on the series of evaluation metrics we would life for comparison.    \n",
    "\n",
    "__v) Evaluation metrics.__\n",
    "\n",
    "* __CV Scores:__ Cross validation scores are used to evaluate the accuracy of classification models based on the premise that the relationships between features and their target classification remain mostly unchanged across conditions of testing which implies that if a model correctly predicts classification based on a training set of data, the model will also make accurate predictions on the test set. One of the advantages of using cross validation is that the accuracy of two different models can be compared even if the models are of different and complex. It is a valuable tool in testing of predictions, as prediction based algorithms are often tedious, expensive and limited in computational scale. As discussed by Tabe-Bordbar, Emad,  Zhao and S. Sinha [1], a supervised machine learning model that is used to make predictions is expected to learn how to predict on a sample that is drawn from the same distribution as are the samples used for training.The evaluation of the model’s performance should accept this assumption, as is the case with CV on random partitions. My experimental model uses five cross validations inside the EGS model and returns the F1 score of each validation model which are the used by the average F1 score. \n",
    "\n",
    "\n",
    "* __Average F1 Score:__ The F1 score is the most popular member of the F-measures, it is defined as the harmonic mean of precision and recall. The recall (accuracy of positive class) is the fraction of relevant samples that are correctly retrieved whereas the precision, is defined to be the fraction of retrieved documents that are relevant. The pair of these two values provides judgement on a classifier’s behaviour. I chose to use the F1 metric to evaluate my model over the article suggestion of MCC because, as discussed by Chicco and Jurman {2], there exists a potential problem with MCC that occurs when a column or row is 0. I have observed this occurrence in both the article model and my experimental model and have opted to use F1 instead. My experimental model used five cross validations inside the EGS model and returns the F1 score of each validation model. The average of these scores is returned as the average F1. This method is established as the ‘optimal’ threshold used in primary research models, for example see [3] where, to determine the optimal threshold for each feature selection, the researcher utilise a five-fold cross validation, to compute the F1 score for each feature.\n",
    "\n",
    "\n",
    "* __Ci Bound:__ The confidence interval is an estimate of an interval that may contain a parameter. This unknown population parameter is found via a sample parameter calculated from the sample data. The confidence interval is defined by its lower and upper bounds. The confidence interval is expressed as a percentage value. While the percentage reflects the confidence level, the inverse or CI bound represents the area outside of the interval.\n",
    "\n",
    "\n",
    "* __Std Dev:__ The standard deviation metric is a statistical measure that is used to measure the spread of a dataset in relation to the dataset’s mean. The standard deviation is derived by calculating the square root of variance. The variance is calculated by each data point's deviation from the mean. \n",
    "\n",
    "\n",
    "* __Std Err:__ The standard error of a statistic is the standard deviation of a sample population. The standard error measures the accuracy of how closely a sample dataset represents a population by utilising the standard deviation. In statistics, a sample mean deviates from the actual mean of a population; this deviation is the standard error of the mean.\n",
    "\n",
    "__vi) Present results using tables and graphs.__\n",
    "\n",
    "![image1.png](attachment:image1.png)\n",
    "![image2.png](attachment:image2.png)\n",
    "![image4.png](attachment:image4.png)\n",
    "![table1.png](attachment:table1.png)\n",
    "![image3.png](attachment:image3.png)\n",
    "\n",
    "__vii) Compare and discuss results with respect to existing literatures.__\n",
    "\n",
    "* My EFS model suggested that using the SGD ML model with the feature column indexs of (3,4,5,6,8,10,11) in image 1 and 2.\n",
    "* The SGD avg F1 score was 0.718263, with a Std Dev of 0.057.\n",
    "* This implies that in the out ranges of confidence, the F1 value could reach 0.718263 + (0.057 * 3).\n",
    "\n",
    "* After updating my dataset and constructing my SGD model, it returned a model result in image 3. This model performed:\n",
    "    * 18% better on average than the table 11 rows based on MCC.\n",
    "    * 14.1% better on average than the table 11 rows based on F1 score.\n",
    "    * 4.8% better on average than the table 11 rows based on Accuracy.\n",
    "    * 27.8% better on average than the table 11 rows based on TP rate.\n",
    "    * 13.6% better on average than the table 11 rows based on TN rate.\n",
    "    * 15.2% better on average than the table 11 rows based on PR AUC.\n",
    "    * 6.7% better on average than both the table 11 rows based on ROC AUC.\n",
    "   \n",
    "* Comparison is shown in the table in image 4 and the graph in image 5.\n",
    "\n",
    "As stipulated in [4], a study conducted on “solid literature studies” and conducted massive computer experiments, the following recommendations are suggested for fair classifier evaluation.  \n",
    "\n",
    "* The accuracy metric may be inappropriate when datasets are imbalanced. Balanced metrics such as the F score, harmonic mean or h measure. Careful consideration needs to be on a chosen metric based on a class bias. My model utilises the harmonic mean to establish a balanced evaluation. \n",
    "\n",
    "* Different classifier metrics reflect different insight into performance, Multiple metrics need to be utilised. My model utilises multiple metrics to give the optimal suggestion which is then evaluated based on another series of metrics to convey suitability. Simple metrics are easier to interpret and are utilised by my model as well.   \n",
    "\n",
    "* Based on the No free lunch theorem, cross validation is vital to testing the premise that one singular test of a classifier is better than others, on average. While my model does use cross validation, the suggested method of T test is not used. However, my model can utilise T test for cross validation and can be adapted to use said metric.     \n",
    "\n",
    "* As indicated in [5] by Gothane, classifier evaluation should take account the different classifiers that have different misclassification cost for each fault prediction. My model does not specifically consider misclassification aside from the model accuracy but the greater metrics at the end of the model do.  \n",
    "\n",
    "\n",
    "__viii) Appropriate references (IEEE numbered).__\n",
    "\n",
    "    [1] \tS. Tabe-Bordbar, A. Emad, S. Zhao and S. Sinha, \"A closer look at cross-validation for assessing the accuracy of gene regulatory networks and models\", Scientific Reports, vol. 8, no. 1, 2018. Available: 10.1038/s41598-018-24937-4.\n",
    "\n",
    "    [2] \tD. Chicco and G. Jurman, \"The advantages of the Matthews correlation coefficient (MCC) over F1 score and accuracy in binary classification evaluation\", BMC Genomics, vol. 21, no. 1, 2020. Available: 10.1186/s12864-019-6413-7.\n",
    "\n",
    "    [3] \tR. Pramono, S. Imtiaz and E. Rodriguez-Villegas, \"Evaluation of features for classification of wheezes and normal respiratory sounds\", PLOS ONE, vol. 14, no. 3, p. e0213659, 2019. Available: 10.1371/journal.pone.0213659.\n",
    "\n",
    "    [4]\tK. Stapor, P. Ksieniewicz, S. García and M. Woźniak, \"How to design the fair experimental classifier evaluation\", Applied Soft Computing, vol. 104, p. 107219, 2021. Available: 10.1016/j.asoc.2021.107219.\n",
    "\n",
    "    [5]\tS. Gothane, \"Predictive Analysis In Data Mining Using Weighted Associative Classifier\", Indian Journal of Applied Research, vol. 1, no. 6, pp. 115-119, 2011. Available: 10.15373/2249555x/mar2012/40.\n"
   ]
  },
  {
   "cell_type": "code",
   "execution_count": 3,
   "metadata": {},
   "outputs": [
    {
     "data": {
      "text/html": [
       "<div>\n",
       "<style scoped>\n",
       "    .dataframe tbody tr th:only-of-type {\n",
       "        vertical-align: middle;\n",
       "    }\n",
       "\n",
       "    .dataframe tbody tr th {\n",
       "        vertical-align: top;\n",
       "    }\n",
       "\n",
       "    .dataframe thead th {\n",
       "        text-align: right;\n",
       "    }\n",
       "</style>\n",
       "<table border=\"1\" class=\"dataframe\">\n",
       "  <thead>\n",
       "    <tr style=\"text-align: right;\">\n",
       "      <th></th>\n",
       "      <th>age</th>\n",
       "      <th>anaemia</th>\n",
       "      <th>creatinine_phosphokinase</th>\n",
       "      <th>diabetes</th>\n",
       "      <th>ejection_fraction</th>\n",
       "      <th>high_blood_pressure</th>\n",
       "      <th>platelets</th>\n",
       "      <th>serum_creatinine</th>\n",
       "      <th>serum_sodium</th>\n",
       "      <th>sex</th>\n",
       "      <th>smoking</th>\n",
       "      <th>time</th>\n",
       "      <th>DEATH_EVENT</th>\n",
       "    </tr>\n",
       "  </thead>\n",
       "  <tbody>\n",
       "    <tr>\n",
       "      <th>0</th>\n",
       "      <td>75.0</td>\n",
       "      <td>0</td>\n",
       "      <td>582</td>\n",
       "      <td>0</td>\n",
       "      <td>20</td>\n",
       "      <td>1</td>\n",
       "      <td>265000.00</td>\n",
       "      <td>1.9</td>\n",
       "      <td>130</td>\n",
       "      <td>1</td>\n",
       "      <td>0</td>\n",
       "      <td>4</td>\n",
       "      <td>1</td>\n",
       "    </tr>\n",
       "    <tr>\n",
       "      <th>1</th>\n",
       "      <td>55.0</td>\n",
       "      <td>0</td>\n",
       "      <td>7861</td>\n",
       "      <td>0</td>\n",
       "      <td>38</td>\n",
       "      <td>0</td>\n",
       "      <td>263358.03</td>\n",
       "      <td>1.1</td>\n",
       "      <td>136</td>\n",
       "      <td>1</td>\n",
       "      <td>0</td>\n",
       "      <td>6</td>\n",
       "      <td>1</td>\n",
       "    </tr>\n",
       "    <tr>\n",
       "      <th>2</th>\n",
       "      <td>65.0</td>\n",
       "      <td>0</td>\n",
       "      <td>146</td>\n",
       "      <td>0</td>\n",
       "      <td>20</td>\n",
       "      <td>0</td>\n",
       "      <td>162000.00</td>\n",
       "      <td>1.3</td>\n",
       "      <td>129</td>\n",
       "      <td>1</td>\n",
       "      <td>1</td>\n",
       "      <td>7</td>\n",
       "      <td>1</td>\n",
       "    </tr>\n",
       "    <tr>\n",
       "      <th>3</th>\n",
       "      <td>50.0</td>\n",
       "      <td>1</td>\n",
       "      <td>111</td>\n",
       "      <td>0</td>\n",
       "      <td>20</td>\n",
       "      <td>0</td>\n",
       "      <td>210000.00</td>\n",
       "      <td>1.9</td>\n",
       "      <td>137</td>\n",
       "      <td>1</td>\n",
       "      <td>0</td>\n",
       "      <td>7</td>\n",
       "      <td>1</td>\n",
       "    </tr>\n",
       "    <tr>\n",
       "      <th>4</th>\n",
       "      <td>65.0</td>\n",
       "      <td>1</td>\n",
       "      <td>160</td>\n",
       "      <td>1</td>\n",
       "      <td>20</td>\n",
       "      <td>0</td>\n",
       "      <td>327000.00</td>\n",
       "      <td>2.7</td>\n",
       "      <td>116</td>\n",
       "      <td>0</td>\n",
       "      <td>0</td>\n",
       "      <td>8</td>\n",
       "      <td>1</td>\n",
       "    </tr>\n",
       "  </tbody>\n",
       "</table>\n",
       "</div>"
      ],
      "text/plain": [
       "    age  anaemia  creatinine_phosphokinase  diabetes  ejection_fraction  \\\n",
       "0  75.0        0                       582         0                 20   \n",
       "1  55.0        0                      7861         0                 38   \n",
       "2  65.0        0                       146         0                 20   \n",
       "3  50.0        1                       111         0                 20   \n",
       "4  65.0        1                       160         1                 20   \n",
       "\n",
       "   high_blood_pressure  platelets  serum_creatinine  serum_sodium  sex  \\\n",
       "0                    1  265000.00               1.9           130    1   \n",
       "1                    0  263358.03               1.1           136    1   \n",
       "2                    0  162000.00               1.3           129    1   \n",
       "3                    0  210000.00               1.9           137    1   \n",
       "4                    0  327000.00               2.7           116    0   \n",
       "\n",
       "   smoking  time  DEATH_EVENT  \n",
       "0        0     4            1  \n",
       "1        0     6            1  \n",
       "2        1     7            1  \n",
       "3        0     7            1  \n",
       "4        0     8            1  "
      ]
     },
     "execution_count": 3,
     "metadata": {},
     "output_type": "execute_result"
    }
   ],
   "source": [
    "neo=pd.read_csv (r\"C:\\Users\\shane\\Desktop\\Study\\University\\T2 2021\\SIT720 Assignments\\A5\\heart_failure_clinical_records_dataset.csv\")\n",
    "neo.head()"
   ]
  },
  {
   "cell_type": "code",
   "execution_count": 4,
   "metadata": {},
   "outputs": [
    {
     "data": {
      "text/html": [
       "<div>\n",
       "<style scoped>\n",
       "    .dataframe tbody tr th:only-of-type {\n",
       "        vertical-align: middle;\n",
       "    }\n",
       "\n",
       "    .dataframe tbody tr th {\n",
       "        vertical-align: top;\n",
       "    }\n",
       "\n",
       "    .dataframe thead th {\n",
       "        text-align: right;\n",
       "    }\n",
       "</style>\n",
       "<table border=\"1\" class=\"dataframe\">\n",
       "  <thead>\n",
       "    <tr style=\"text-align: right;\">\n",
       "      <th></th>\n",
       "      <th>sex</th>\n",
       "      <th>smoking</th>\n",
       "      <th>diabetes</th>\n",
       "      <th>high_blood_pressure</th>\n",
       "      <th>anaemia</th>\n",
       "      <th>age</th>\n",
       "      <th>ejection_fraction</th>\n",
       "      <th>serum_sodium</th>\n",
       "      <th>serum_creatinine</th>\n",
       "      <th>platelets</th>\n",
       "      <th>creatinine_phosphokinase</th>\n",
       "      <th>time</th>\n",
       "      <th>DEATH_EVENT</th>\n",
       "    </tr>\n",
       "  </thead>\n",
       "  <tbody>\n",
       "    <tr>\n",
       "      <th>0</th>\n",
       "      <td>1</td>\n",
       "      <td>0</td>\n",
       "      <td>0</td>\n",
       "      <td>1</td>\n",
       "      <td>0</td>\n",
       "      <td>75.0</td>\n",
       "      <td>20</td>\n",
       "      <td>130</td>\n",
       "      <td>1.9</td>\n",
       "      <td>265000.00</td>\n",
       "      <td>582</td>\n",
       "      <td>4</td>\n",
       "      <td>1</td>\n",
       "    </tr>\n",
       "    <tr>\n",
       "      <th>1</th>\n",
       "      <td>1</td>\n",
       "      <td>0</td>\n",
       "      <td>0</td>\n",
       "      <td>0</td>\n",
       "      <td>0</td>\n",
       "      <td>55.0</td>\n",
       "      <td>38</td>\n",
       "      <td>136</td>\n",
       "      <td>1.1</td>\n",
       "      <td>263358.03</td>\n",
       "      <td>7861</td>\n",
       "      <td>6</td>\n",
       "      <td>1</td>\n",
       "    </tr>\n",
       "    <tr>\n",
       "      <th>2</th>\n",
       "      <td>1</td>\n",
       "      <td>1</td>\n",
       "      <td>0</td>\n",
       "      <td>0</td>\n",
       "      <td>0</td>\n",
       "      <td>65.0</td>\n",
       "      <td>20</td>\n",
       "      <td>129</td>\n",
       "      <td>1.3</td>\n",
       "      <td>162000.00</td>\n",
       "      <td>146</td>\n",
       "      <td>7</td>\n",
       "      <td>1</td>\n",
       "    </tr>\n",
       "    <tr>\n",
       "      <th>3</th>\n",
       "      <td>1</td>\n",
       "      <td>0</td>\n",
       "      <td>0</td>\n",
       "      <td>0</td>\n",
       "      <td>1</td>\n",
       "      <td>50.0</td>\n",
       "      <td>20</td>\n",
       "      <td>137</td>\n",
       "      <td>1.9</td>\n",
       "      <td>210000.00</td>\n",
       "      <td>111</td>\n",
       "      <td>7</td>\n",
       "      <td>1</td>\n",
       "    </tr>\n",
       "    <tr>\n",
       "      <th>4</th>\n",
       "      <td>0</td>\n",
       "      <td>0</td>\n",
       "      <td>1</td>\n",
       "      <td>0</td>\n",
       "      <td>1</td>\n",
       "      <td>65.0</td>\n",
       "      <td>20</td>\n",
       "      <td>116</td>\n",
       "      <td>2.7</td>\n",
       "      <td>327000.00</td>\n",
       "      <td>160</td>\n",
       "      <td>8</td>\n",
       "      <td>1</td>\n",
       "    </tr>\n",
       "    <tr>\n",
       "      <th>...</th>\n",
       "      <td>...</td>\n",
       "      <td>...</td>\n",
       "      <td>...</td>\n",
       "      <td>...</td>\n",
       "      <td>...</td>\n",
       "      <td>...</td>\n",
       "      <td>...</td>\n",
       "      <td>...</td>\n",
       "      <td>...</td>\n",
       "      <td>...</td>\n",
       "      <td>...</td>\n",
       "      <td>...</td>\n",
       "      <td>...</td>\n",
       "    </tr>\n",
       "    <tr>\n",
       "      <th>294</th>\n",
       "      <td>1</td>\n",
       "      <td>1</td>\n",
       "      <td>1</td>\n",
       "      <td>1</td>\n",
       "      <td>0</td>\n",
       "      <td>62.0</td>\n",
       "      <td>38</td>\n",
       "      <td>143</td>\n",
       "      <td>1.1</td>\n",
       "      <td>155000.00</td>\n",
       "      <td>61</td>\n",
       "      <td>270</td>\n",
       "      <td>0</td>\n",
       "    </tr>\n",
       "    <tr>\n",
       "      <th>295</th>\n",
       "      <td>0</td>\n",
       "      <td>0</td>\n",
       "      <td>0</td>\n",
       "      <td>0</td>\n",
       "      <td>0</td>\n",
       "      <td>55.0</td>\n",
       "      <td>38</td>\n",
       "      <td>139</td>\n",
       "      <td>1.2</td>\n",
       "      <td>270000.00</td>\n",
       "      <td>1820</td>\n",
       "      <td>271</td>\n",
       "      <td>0</td>\n",
       "    </tr>\n",
       "    <tr>\n",
       "      <th>296</th>\n",
       "      <td>0</td>\n",
       "      <td>0</td>\n",
       "      <td>1</td>\n",
       "      <td>0</td>\n",
       "      <td>0</td>\n",
       "      <td>45.0</td>\n",
       "      <td>60</td>\n",
       "      <td>138</td>\n",
       "      <td>0.8</td>\n",
       "      <td>742000.00</td>\n",
       "      <td>2060</td>\n",
       "      <td>278</td>\n",
       "      <td>0</td>\n",
       "    </tr>\n",
       "    <tr>\n",
       "      <th>297</th>\n",
       "      <td>1</td>\n",
       "      <td>1</td>\n",
       "      <td>0</td>\n",
       "      <td>0</td>\n",
       "      <td>0</td>\n",
       "      <td>45.0</td>\n",
       "      <td>38</td>\n",
       "      <td>140</td>\n",
       "      <td>1.4</td>\n",
       "      <td>140000.00</td>\n",
       "      <td>2413</td>\n",
       "      <td>280</td>\n",
       "      <td>0</td>\n",
       "    </tr>\n",
       "    <tr>\n",
       "      <th>298</th>\n",
       "      <td>1</td>\n",
       "      <td>1</td>\n",
       "      <td>0</td>\n",
       "      <td>0</td>\n",
       "      <td>0</td>\n",
       "      <td>50.0</td>\n",
       "      <td>45</td>\n",
       "      <td>136</td>\n",
       "      <td>1.6</td>\n",
       "      <td>395000.00</td>\n",
       "      <td>196</td>\n",
       "      <td>285</td>\n",
       "      <td>0</td>\n",
       "    </tr>\n",
       "  </tbody>\n",
       "</table>\n",
       "<p>299 rows × 13 columns</p>\n",
       "</div>"
      ],
      "text/plain": [
       "     sex  smoking  diabetes  high_blood_pressure  anaemia   age  \\\n",
       "0      1        0         0                    1        0  75.0   \n",
       "1      1        0         0                    0        0  55.0   \n",
       "2      1        1         0                    0        0  65.0   \n",
       "3      1        0         0                    0        1  50.0   \n",
       "4      0        0         1                    0        1  65.0   \n",
       "..   ...      ...       ...                  ...      ...   ...   \n",
       "294    1        1         1                    1        0  62.0   \n",
       "295    0        0         0                    0        0  55.0   \n",
       "296    0        0         1                    0        0  45.0   \n",
       "297    1        1         0                    0        0  45.0   \n",
       "298    1        1         0                    0        0  50.0   \n",
       "\n",
       "     ejection_fraction  serum_sodium  serum_creatinine  platelets  \\\n",
       "0                   20           130               1.9  265000.00   \n",
       "1                   38           136               1.1  263358.03   \n",
       "2                   20           129               1.3  162000.00   \n",
       "3                   20           137               1.9  210000.00   \n",
       "4                   20           116               2.7  327000.00   \n",
       "..                 ...           ...               ...        ...   \n",
       "294                 38           143               1.1  155000.00   \n",
       "295                 38           139               1.2  270000.00   \n",
       "296                 60           138               0.8  742000.00   \n",
       "297                 38           140               1.4  140000.00   \n",
       "298                 45           136               1.6  395000.00   \n",
       "\n",
       "     creatinine_phosphokinase  time  DEATH_EVENT  \n",
       "0                         582     4            1  \n",
       "1                        7861     6            1  \n",
       "2                         146     7            1  \n",
       "3                         111     7            1  \n",
       "4                         160     8            1  \n",
       "..                        ...   ...          ...  \n",
       "294                        61   270            0  \n",
       "295                      1820   271            0  \n",
       "296                      2060   278            0  \n",
       "297                      2413   280            0  \n",
       "298                       196   285            0  \n",
       "\n",
       "[299 rows x 13 columns]"
      ]
     },
     "execution_count": 4,
     "metadata": {},
     "output_type": "execute_result"
    }
   ],
   "source": [
    "data = neo[['sex','smoking','diabetes','high_blood_pressure','anaemia','age','ejection_fraction','serum_sodium','serum_creatinine','platelets','creatinine_phosphokinase','time','DEATH_EVENT']]\n",
    "data"
   ]
  },
  {
   "cell_type": "code",
   "execution_count": 5,
   "metadata": {},
   "outputs": [
    {
     "data": {
      "text/html": [
       "<div>\n",
       "<style scoped>\n",
       "    .dataframe tbody tr th:only-of-type {\n",
       "        vertical-align: middle;\n",
       "    }\n",
       "\n",
       "    .dataframe tbody tr th {\n",
       "        vertical-align: top;\n",
       "    }\n",
       "\n",
       "    .dataframe thead th {\n",
       "        text-align: right;\n",
       "    }\n",
       "</style>\n",
       "<table border=\"1\" class=\"dataframe\">\n",
       "  <thead>\n",
       "    <tr style=\"text-align: right;\">\n",
       "      <th></th>\n",
       "      <th>sex</th>\n",
       "      <th>smoking</th>\n",
       "      <th>diabetes</th>\n",
       "      <th>high_blood_pressure</th>\n",
       "      <th>anaemia</th>\n",
       "      <th>age</th>\n",
       "      <th>ejection_fraction</th>\n",
       "      <th>serum_sodium</th>\n",
       "      <th>serum_creatinine</th>\n",
       "      <th>platelets</th>\n",
       "      <th>creatinine_phosphokinase</th>\n",
       "      <th>time</th>\n",
       "      <th>DEATH_EVENT</th>\n",
       "    </tr>\n",
       "  </thead>\n",
       "  <tbody>\n",
       "    <tr>\n",
       "      <th>0</th>\n",
       "      <td>1</td>\n",
       "      <td>0</td>\n",
       "      <td>0</td>\n",
       "      <td>1</td>\n",
       "      <td>0</td>\n",
       "      <td>75.0</td>\n",
       "      <td>20</td>\n",
       "      <td>130</td>\n",
       "      <td>1.9</td>\n",
       "      <td>265000.00</td>\n",
       "      <td>582</td>\n",
       "      <td>0</td>\n",
       "      <td>1</td>\n",
       "    </tr>\n",
       "    <tr>\n",
       "      <th>1</th>\n",
       "      <td>1</td>\n",
       "      <td>0</td>\n",
       "      <td>0</td>\n",
       "      <td>0</td>\n",
       "      <td>0</td>\n",
       "      <td>55.0</td>\n",
       "      <td>38</td>\n",
       "      <td>136</td>\n",
       "      <td>1.1</td>\n",
       "      <td>263358.03</td>\n",
       "      <td>7861</td>\n",
       "      <td>0</td>\n",
       "      <td>1</td>\n",
       "    </tr>\n",
       "    <tr>\n",
       "      <th>2</th>\n",
       "      <td>1</td>\n",
       "      <td>1</td>\n",
       "      <td>0</td>\n",
       "      <td>0</td>\n",
       "      <td>0</td>\n",
       "      <td>65.0</td>\n",
       "      <td>20</td>\n",
       "      <td>129</td>\n",
       "      <td>1.3</td>\n",
       "      <td>162000.00</td>\n",
       "      <td>146</td>\n",
       "      <td>0</td>\n",
       "      <td>1</td>\n",
       "    </tr>\n",
       "    <tr>\n",
       "      <th>3</th>\n",
       "      <td>1</td>\n",
       "      <td>0</td>\n",
       "      <td>0</td>\n",
       "      <td>0</td>\n",
       "      <td>1</td>\n",
       "      <td>50.0</td>\n",
       "      <td>20</td>\n",
       "      <td>137</td>\n",
       "      <td>1.9</td>\n",
       "      <td>210000.00</td>\n",
       "      <td>111</td>\n",
       "      <td>0</td>\n",
       "      <td>1</td>\n",
       "    </tr>\n",
       "    <tr>\n",
       "      <th>4</th>\n",
       "      <td>0</td>\n",
       "      <td>0</td>\n",
       "      <td>1</td>\n",
       "      <td>0</td>\n",
       "      <td>1</td>\n",
       "      <td>65.0</td>\n",
       "      <td>20</td>\n",
       "      <td>116</td>\n",
       "      <td>2.7</td>\n",
       "      <td>327000.00</td>\n",
       "      <td>160</td>\n",
       "      <td>0</td>\n",
       "      <td>1</td>\n",
       "    </tr>\n",
       "    <tr>\n",
       "      <th>...</th>\n",
       "      <td>...</td>\n",
       "      <td>...</td>\n",
       "      <td>...</td>\n",
       "      <td>...</td>\n",
       "      <td>...</td>\n",
       "      <td>...</td>\n",
       "      <td>...</td>\n",
       "      <td>...</td>\n",
       "      <td>...</td>\n",
       "      <td>...</td>\n",
       "      <td>...</td>\n",
       "      <td>...</td>\n",
       "      <td>...</td>\n",
       "    </tr>\n",
       "    <tr>\n",
       "      <th>294</th>\n",
       "      <td>1</td>\n",
       "      <td>1</td>\n",
       "      <td>1</td>\n",
       "      <td>1</td>\n",
       "      <td>0</td>\n",
       "      <td>62.0</td>\n",
       "      <td>38</td>\n",
       "      <td>143</td>\n",
       "      <td>1.1</td>\n",
       "      <td>155000.00</td>\n",
       "      <td>61</td>\n",
       "      <td>8</td>\n",
       "      <td>0</td>\n",
       "    </tr>\n",
       "    <tr>\n",
       "      <th>295</th>\n",
       "      <td>0</td>\n",
       "      <td>0</td>\n",
       "      <td>0</td>\n",
       "      <td>0</td>\n",
       "      <td>0</td>\n",
       "      <td>55.0</td>\n",
       "      <td>38</td>\n",
       "      <td>139</td>\n",
       "      <td>1.2</td>\n",
       "      <td>270000.00</td>\n",
       "      <td>1820</td>\n",
       "      <td>9</td>\n",
       "      <td>0</td>\n",
       "    </tr>\n",
       "    <tr>\n",
       "      <th>296</th>\n",
       "      <td>0</td>\n",
       "      <td>0</td>\n",
       "      <td>1</td>\n",
       "      <td>0</td>\n",
       "      <td>0</td>\n",
       "      <td>45.0</td>\n",
       "      <td>60</td>\n",
       "      <td>138</td>\n",
       "      <td>0.8</td>\n",
       "      <td>742000.00</td>\n",
       "      <td>2060</td>\n",
       "      <td>9</td>\n",
       "      <td>0</td>\n",
       "    </tr>\n",
       "    <tr>\n",
       "      <th>297</th>\n",
       "      <td>1</td>\n",
       "      <td>1</td>\n",
       "      <td>0</td>\n",
       "      <td>0</td>\n",
       "      <td>0</td>\n",
       "      <td>45.0</td>\n",
       "      <td>38</td>\n",
       "      <td>140</td>\n",
       "      <td>1.4</td>\n",
       "      <td>140000.00</td>\n",
       "      <td>2413</td>\n",
       "      <td>9</td>\n",
       "      <td>0</td>\n",
       "    </tr>\n",
       "    <tr>\n",
       "      <th>298</th>\n",
       "      <td>1</td>\n",
       "      <td>1</td>\n",
       "      <td>0</td>\n",
       "      <td>0</td>\n",
       "      <td>0</td>\n",
       "      <td>50.0</td>\n",
       "      <td>45</td>\n",
       "      <td>136</td>\n",
       "      <td>1.6</td>\n",
       "      <td>395000.00</td>\n",
       "      <td>196</td>\n",
       "      <td>9</td>\n",
       "      <td>0</td>\n",
       "    </tr>\n",
       "  </tbody>\n",
       "</table>\n",
       "<p>299 rows × 13 columns</p>\n",
       "</div>"
      ],
      "text/plain": [
       "     sex  smoking  diabetes  high_blood_pressure  anaemia   age  \\\n",
       "0      1        0         0                    1        0  75.0   \n",
       "1      1        0         0                    0        0  55.0   \n",
       "2      1        1         0                    0        0  65.0   \n",
       "3      1        0         0                    0        1  50.0   \n",
       "4      0        0         1                    0        1  65.0   \n",
       "..   ...      ...       ...                  ...      ...   ...   \n",
       "294    1        1         1                    1        0  62.0   \n",
       "295    0        0         0                    0        0  55.0   \n",
       "296    0        0         1                    0        0  45.0   \n",
       "297    1        1         0                    0        0  45.0   \n",
       "298    1        1         0                    0        0  50.0   \n",
       "\n",
       "     ejection_fraction  serum_sodium  serum_creatinine  platelets  \\\n",
       "0                   20           130               1.9  265000.00   \n",
       "1                   38           136               1.1  263358.03   \n",
       "2                   20           129               1.3  162000.00   \n",
       "3                   20           137               1.9  210000.00   \n",
       "4                   20           116               2.7  327000.00   \n",
       "..                 ...           ...               ...        ...   \n",
       "294                 38           143               1.1  155000.00   \n",
       "295                 38           139               1.2  270000.00   \n",
       "296                 60           138               0.8  742000.00   \n",
       "297                 38           140               1.4  140000.00   \n",
       "298                 45           136               1.6  395000.00   \n",
       "\n",
       "     creatinine_phosphokinase  time  DEATH_EVENT  \n",
       "0                         582     0            1  \n",
       "1                        7861     0            1  \n",
       "2                         146     0            1  \n",
       "3                         111     0            1  \n",
       "4                         160     0            1  \n",
       "..                        ...   ...          ...  \n",
       "294                        61     8            0  \n",
       "295                      1820     9            0  \n",
       "296                      2060     9            0  \n",
       "297                      2413     9            0  \n",
       "298                       196     9            0  \n",
       "\n",
       "[299 rows x 13 columns]"
      ]
     },
     "execution_count": 5,
     "metadata": {},
     "output_type": "execute_result"
    }
   ],
   "source": [
    "data.loc[data['time']<30,'time']=0\n",
    "data.loc[data['time'].between(30,60),'time']=1\n",
    "data.loc[data['time'].between(60,90),'time']=2\n",
    "data.loc[data['time'].between(90,120),'time']=3\n",
    "data.loc[data['time'].between(120,150),'time']=4\n",
    "data.loc[data['time'].between(150,180),'time']=5\n",
    "data.loc[data['time'].between(180,210),'time']=6\n",
    "data.loc[data['time'].between(210,240),'time']=7\n",
    "data.loc[data['time'].between(240,270),'time']=8\n",
    "data.loc[data['time'].between(270,300),'time']=9\n",
    "data.loc[data['time'].between(300,330),'time']=10\n",
    "data.loc[data['time'].between(330,360),'time']=11\n",
    "data.loc[data['time'].between(360,365),'time']=12\n",
    "tdata = data\n",
    "tdata"
   ]
  },
  {
   "cell_type": "code",
   "execution_count": 6,
   "metadata": {},
   "outputs": [],
   "source": [
    "scale = MinMaxScaler()"
   ]
  },
  {
   "cell_type": "code",
   "execution_count": 7,
   "metadata": {
    "scrolled": true
   },
   "outputs": [
    {
     "data": {
      "text/html": [
       "<div>\n",
       "<style scoped>\n",
       "    .dataframe tbody tr th:only-of-type {\n",
       "        vertical-align: middle;\n",
       "    }\n",
       "\n",
       "    .dataframe tbody tr th {\n",
       "        vertical-align: top;\n",
       "    }\n",
       "\n",
       "    .dataframe thead th {\n",
       "        text-align: right;\n",
       "    }\n",
       "</style>\n",
       "<table border=\"1\" class=\"dataframe\">\n",
       "  <thead>\n",
       "    <tr style=\"text-align: right;\">\n",
       "      <th></th>\n",
       "      <th>sex</th>\n",
       "      <th>smoking</th>\n",
       "      <th>diabetes</th>\n",
       "      <th>high_blood_pressure</th>\n",
       "      <th>anaemia</th>\n",
       "      <th>age</th>\n",
       "      <th>ejection_fraction</th>\n",
       "      <th>serum_sodium</th>\n",
       "      <th>serum_creatinine</th>\n",
       "      <th>platelets</th>\n",
       "      <th>creatinine_phosphokinase</th>\n",
       "      <th>time</th>\n",
       "      <th>DEATH_EVENT</th>\n",
       "    </tr>\n",
       "  </thead>\n",
       "  <tbody>\n",
       "    <tr>\n",
       "      <th>0</th>\n",
       "      <td>1.0</td>\n",
       "      <td>0.0</td>\n",
       "      <td>0.0</td>\n",
       "      <td>1.0</td>\n",
       "      <td>0.0</td>\n",
       "      <td>0.636364</td>\n",
       "      <td>0.090909</td>\n",
       "      <td>0.485714</td>\n",
       "      <td>0.157303</td>\n",
       "      <td>0.290823</td>\n",
       "      <td>0.071319</td>\n",
       "      <td>0.000000</td>\n",
       "      <td>1.0</td>\n",
       "    </tr>\n",
       "    <tr>\n",
       "      <th>1</th>\n",
       "      <td>1.0</td>\n",
       "      <td>0.0</td>\n",
       "      <td>0.0</td>\n",
       "      <td>0.0</td>\n",
       "      <td>0.0</td>\n",
       "      <td>0.272727</td>\n",
       "      <td>0.363636</td>\n",
       "      <td>0.657143</td>\n",
       "      <td>0.067416</td>\n",
       "      <td>0.288833</td>\n",
       "      <td>1.000000</td>\n",
       "      <td>0.000000</td>\n",
       "      <td>1.0</td>\n",
       "    </tr>\n",
       "    <tr>\n",
       "      <th>2</th>\n",
       "      <td>1.0</td>\n",
       "      <td>1.0</td>\n",
       "      <td>0.0</td>\n",
       "      <td>0.0</td>\n",
       "      <td>0.0</td>\n",
       "      <td>0.454545</td>\n",
       "      <td>0.090909</td>\n",
       "      <td>0.457143</td>\n",
       "      <td>0.089888</td>\n",
       "      <td>0.165960</td>\n",
       "      <td>0.015693</td>\n",
       "      <td>0.000000</td>\n",
       "      <td>1.0</td>\n",
       "    </tr>\n",
       "    <tr>\n",
       "      <th>3</th>\n",
       "      <td>1.0</td>\n",
       "      <td>0.0</td>\n",
       "      <td>0.0</td>\n",
       "      <td>0.0</td>\n",
       "      <td>1.0</td>\n",
       "      <td>0.181818</td>\n",
       "      <td>0.090909</td>\n",
       "      <td>0.685714</td>\n",
       "      <td>0.157303</td>\n",
       "      <td>0.224148</td>\n",
       "      <td>0.011227</td>\n",
       "      <td>0.000000</td>\n",
       "      <td>1.0</td>\n",
       "    </tr>\n",
       "    <tr>\n",
       "      <th>4</th>\n",
       "      <td>0.0</td>\n",
       "      <td>0.0</td>\n",
       "      <td>1.0</td>\n",
       "      <td>0.0</td>\n",
       "      <td>1.0</td>\n",
       "      <td>0.454545</td>\n",
       "      <td>0.090909</td>\n",
       "      <td>0.085714</td>\n",
       "      <td>0.247191</td>\n",
       "      <td>0.365984</td>\n",
       "      <td>0.017479</td>\n",
       "      <td>0.000000</td>\n",
       "      <td>1.0</td>\n",
       "    </tr>\n",
       "    <tr>\n",
       "      <th>...</th>\n",
       "      <td>...</td>\n",
       "      <td>...</td>\n",
       "      <td>...</td>\n",
       "      <td>...</td>\n",
       "      <td>...</td>\n",
       "      <td>...</td>\n",
       "      <td>...</td>\n",
       "      <td>...</td>\n",
       "      <td>...</td>\n",
       "      <td>...</td>\n",
       "      <td>...</td>\n",
       "      <td>...</td>\n",
       "      <td>...</td>\n",
       "    </tr>\n",
       "    <tr>\n",
       "      <th>294</th>\n",
       "      <td>1.0</td>\n",
       "      <td>1.0</td>\n",
       "      <td>1.0</td>\n",
       "      <td>1.0</td>\n",
       "      <td>0.0</td>\n",
       "      <td>0.400000</td>\n",
       "      <td>0.363636</td>\n",
       "      <td>0.857143</td>\n",
       "      <td>0.067416</td>\n",
       "      <td>0.157474</td>\n",
       "      <td>0.004848</td>\n",
       "      <td>0.888889</td>\n",
       "      <td>0.0</td>\n",
       "    </tr>\n",
       "    <tr>\n",
       "      <th>295</th>\n",
       "      <td>0.0</td>\n",
       "      <td>0.0</td>\n",
       "      <td>0.0</td>\n",
       "      <td>0.0</td>\n",
       "      <td>0.0</td>\n",
       "      <td>0.272727</td>\n",
       "      <td>0.363636</td>\n",
       "      <td>0.742857</td>\n",
       "      <td>0.078652</td>\n",
       "      <td>0.296884</td>\n",
       "      <td>0.229268</td>\n",
       "      <td>1.000000</td>\n",
       "      <td>0.0</td>\n",
       "    </tr>\n",
       "    <tr>\n",
       "      <th>296</th>\n",
       "      <td>0.0</td>\n",
       "      <td>0.0</td>\n",
       "      <td>1.0</td>\n",
       "      <td>0.0</td>\n",
       "      <td>0.0</td>\n",
       "      <td>0.090909</td>\n",
       "      <td>0.696970</td>\n",
       "      <td>0.714286</td>\n",
       "      <td>0.033708</td>\n",
       "      <td>0.869075</td>\n",
       "      <td>0.259888</td>\n",
       "      <td>1.000000</td>\n",
       "      <td>0.0</td>\n",
       "    </tr>\n",
       "    <tr>\n",
       "      <th>297</th>\n",
       "      <td>1.0</td>\n",
       "      <td>1.0</td>\n",
       "      <td>0.0</td>\n",
       "      <td>0.0</td>\n",
       "      <td>0.0</td>\n",
       "      <td>0.090909</td>\n",
       "      <td>0.363636</td>\n",
       "      <td>0.771429</td>\n",
       "      <td>0.101124</td>\n",
       "      <td>0.139290</td>\n",
       "      <td>0.304925</td>\n",
       "      <td>1.000000</td>\n",
       "      <td>0.0</td>\n",
       "    </tr>\n",
       "    <tr>\n",
       "      <th>298</th>\n",
       "      <td>1.0</td>\n",
       "      <td>1.0</td>\n",
       "      <td>0.0</td>\n",
       "      <td>0.0</td>\n",
       "      <td>0.0</td>\n",
       "      <td>0.181818</td>\n",
       "      <td>0.469697</td>\n",
       "      <td>0.657143</td>\n",
       "      <td>0.123596</td>\n",
       "      <td>0.448418</td>\n",
       "      <td>0.022072</td>\n",
       "      <td>1.000000</td>\n",
       "      <td>0.0</td>\n",
       "    </tr>\n",
       "  </tbody>\n",
       "</table>\n",
       "<p>299 rows × 13 columns</p>\n",
       "</div>"
      ],
      "text/plain": [
       "     sex  smoking  diabetes  high_blood_pressure  anaemia       age  \\\n",
       "0    1.0      0.0       0.0                  1.0      0.0  0.636364   \n",
       "1    1.0      0.0       0.0                  0.0      0.0  0.272727   \n",
       "2    1.0      1.0       0.0                  0.0      0.0  0.454545   \n",
       "3    1.0      0.0       0.0                  0.0      1.0  0.181818   \n",
       "4    0.0      0.0       1.0                  0.0      1.0  0.454545   \n",
       "..   ...      ...       ...                  ...      ...       ...   \n",
       "294  1.0      1.0       1.0                  1.0      0.0  0.400000   \n",
       "295  0.0      0.0       0.0                  0.0      0.0  0.272727   \n",
       "296  0.0      0.0       1.0                  0.0      0.0  0.090909   \n",
       "297  1.0      1.0       0.0                  0.0      0.0  0.090909   \n",
       "298  1.0      1.0       0.0                  0.0      0.0  0.181818   \n",
       "\n",
       "     ejection_fraction  serum_sodium  serum_creatinine  platelets  \\\n",
       "0             0.090909      0.485714          0.157303   0.290823   \n",
       "1             0.363636      0.657143          0.067416   0.288833   \n",
       "2             0.090909      0.457143          0.089888   0.165960   \n",
       "3             0.090909      0.685714          0.157303   0.224148   \n",
       "4             0.090909      0.085714          0.247191   0.365984   \n",
       "..                 ...           ...               ...        ...   \n",
       "294           0.363636      0.857143          0.067416   0.157474   \n",
       "295           0.363636      0.742857          0.078652   0.296884   \n",
       "296           0.696970      0.714286          0.033708   0.869075   \n",
       "297           0.363636      0.771429          0.101124   0.139290   \n",
       "298           0.469697      0.657143          0.123596   0.448418   \n",
       "\n",
       "     creatinine_phosphokinase      time  DEATH_EVENT  \n",
       "0                    0.071319  0.000000          1.0  \n",
       "1                    1.000000  0.000000          1.0  \n",
       "2                    0.015693  0.000000          1.0  \n",
       "3                    0.011227  0.000000          1.0  \n",
       "4                    0.017479  0.000000          1.0  \n",
       "..                        ...       ...          ...  \n",
       "294                  0.004848  0.888889          0.0  \n",
       "295                  0.229268  1.000000          0.0  \n",
       "296                  0.259888  1.000000          0.0  \n",
       "297                  0.304925  1.000000          0.0  \n",
       "298                  0.022072  1.000000          0.0  \n",
       "\n",
       "[299 rows x 13 columns]"
      ]
     },
     "execution_count": 7,
     "metadata": {},
     "output_type": "execute_result"
    }
   ],
   "source": [
    "bx=tdata\n",
    "bx=scale.fit_transform(bx)\n",
    "bx=pd.DataFrame(bx)\n",
    "bx.columns = ['sex','smoking','diabetes','high_blood_pressure','anaemia','age','ejection_fraction','serum_sodium','serum_creatinine','platelets','creatinine_phosphokinase','time','DEATH_EVENT']\n",
    "bx"
   ]
  },
  {
   "cell_type": "code",
   "execution_count": 8,
   "metadata": {},
   "outputs": [],
   "source": [
    "# Base Data > Normalised > Split\n",
    "b1x = bx[['sex','smoking','diabetes','high_blood_pressure','anaemia','age','ejection_fraction','serum_sodium','serum_creatinine','platelets','creatinine_phosphokinase','time']]\n",
    "b1y = bx[['DEATH_EVENT']]\n",
    "b1y = np.ravel(b1y)\n",
    "b1x_trainz, b1x_testz, b1y_trainz, b1y_testz = train_test_split(b1x, b1y, test_size=0.2)"
   ]
  },
  {
   "cell_type": "code",
   "execution_count": 113,
   "metadata": {
    "scrolled": false
   },
   "outputs": [
    {
     "name": "stderr",
     "output_type": "stream",
     "text": [
      "Features: 4082/4082"
     ]
    }
   ],
   "source": [
    "# LOGR-EFS\n",
    "efs1 = EFS(LogisticRegression(), min_features=1, max_features=10, scoring='f1', cv=5)\n",
    "\n",
    "efs1 = efs1.fit(b1x_trainz, b1y_trainz)\n",
    "\n",
    "df = pd.DataFrame.from_dict(efs1.get_metric_dict()).T\n",
    "df.sort_values('avg_score', inplace=True, ascending=False)\n",
    "row_1=df.iloc[0]\n",
    "LOG1=row_1.to_frame().T"
   ]
  },
  {
   "cell_type": "code",
   "execution_count": 114,
   "metadata": {},
   "outputs": [
    {
     "name": "stderr",
     "output_type": "stream",
     "text": [
      "Features: 4082/4082"
     ]
    }
   ],
   "source": [
    "# SGD-EFS\n",
    "efs1 = EFS(SGDClassifier(), min_features=1, max_features=10,scoring='f1',cv=5)\n",
    "\n",
    "efs1 = efs1.fit(b1x_trainz, b1y_trainz)\n",
    "\n",
    "df = pd.DataFrame.from_dict(efs1.get_metric_dict()).T\n",
    "df.sort_values('avg_score', inplace=True, ascending=False)\n",
    "row_1=df.iloc[0]\n",
    "SGD1=row_1.to_frame().T"
   ]
  },
  {
   "cell_type": "code",
   "execution_count": 115,
   "metadata": {},
   "outputs": [
    {
     "name": "stderr",
     "output_type": "stream",
     "text": [
      "Features: 4082/4082"
     ]
    }
   ],
   "source": [
    "# SVC-EFS\n",
    "efs1 = EFS(SVC(), min_features=1, max_features=10,scoring='f1',cv=5)\n",
    "\n",
    "efs1 = efs1.fit(b1x_trainz, b1y_trainz)\n",
    "\n",
    "df = pd.DataFrame.from_dict(efs1.get_metric_dict()).T\n",
    "df.sort_values('avg_score', inplace=True, ascending=False)\n",
    "row_1=df.iloc[0]\n",
    "SVC1=row_1.to_frame().T"
   ]
  },
  {
   "cell_type": "code",
   "execution_count": 116,
   "metadata": {},
   "outputs": [
    {
     "name": "stderr",
     "output_type": "stream",
     "text": [
      "Features: 4082/4082"
     ]
    }
   ],
   "source": [
    "# KNN-EFS\n",
    "efs1 = EFS(KNeighborsClassifier(n_neighbors=2), min_features=1, max_features=10,scoring='f1',cv=5)\n",
    "\n",
    "efs1 = efs1.fit(b1x_trainz, b1y_trainz)\n",
    "\n",
    "df = pd.DataFrame.from_dict(efs1.get_metric_dict()).T\n",
    "df.sort_values('avg_score', inplace=True, ascending=False)\n",
    "row_1=df.iloc[0]\n",
    "KNN1=row_1.to_frame().T"
   ]
  },
  {
   "cell_type": "code",
   "execution_count": 117,
   "metadata": {},
   "outputs": [
    {
     "name": "stderr",
     "output_type": "stream",
     "text": [
      "Features: 4082/4082"
     ]
    }
   ],
   "source": [
    "# NB-EFS\n",
    "efs1 = EFS(GaussianNB(), min_features=1, max_features=10,scoring='f1',cv=5)\n",
    "\n",
    "efs1 = efs1.fit(b1x_trainz, b1y_trainz)\n",
    "\n",
    "df = pd.DataFrame.from_dict(efs1.get_metric_dict()).T\n",
    "df.sort_values('avg_score', inplace=True, ascending=False)\n",
    "row_1=df.iloc[0]\n",
    "GNB1=row_1.to_frame().T"
   ]
  },
  {
   "cell_type": "code",
   "execution_count": 118,
   "metadata": {},
   "outputs": [],
   "source": [
    "LOG1.insert(0,\"Method\",\"LOG XY1\")\n",
    "SGD1.insert(0,\"Method\",\"SGD XY1\")\n",
    "SVC1.insert(0,\"Method\",\"SVC XY1\")\n",
    "KNN1.insert(0,\"Method\",\"KNN XY1\")\n",
    "GNB1.insert(0,\"Method\",\"GNB XY1\")"
   ]
  },
  {
   "cell_type": "code",
   "execution_count": 119,
   "metadata": {},
   "outputs": [
    {
     "data": {
      "text/html": [
       "<div>\n",
       "<style scoped>\n",
       "    .dataframe tbody tr th:only-of-type {\n",
       "        vertical-align: middle;\n",
       "    }\n",
       "\n",
       "    .dataframe tbody tr th {\n",
       "        vertical-align: top;\n",
       "    }\n",
       "\n",
       "    .dataframe thead th {\n",
       "        text-align: right;\n",
       "    }\n",
       "</style>\n",
       "<table border=\"1\" class=\"dataframe\">\n",
       "  <thead>\n",
       "    <tr style=\"text-align: right;\">\n",
       "      <th></th>\n",
       "      <th>Method</th>\n",
       "      <th>feature_idx</th>\n",
       "      <th>cv_scores</th>\n",
       "      <th>avg_score</th>\n",
       "      <th>feature_names</th>\n",
       "      <th>ci_bound</th>\n",
       "      <th>std_dev</th>\n",
       "      <th>std_err</th>\n",
       "    </tr>\n",
       "  </thead>\n",
       "  <tbody>\n",
       "    <tr>\n",
       "      <th>3273</th>\n",
       "      <td>SGD XY1</td>\n",
       "      <td>(3, 4, 5, 6, 8, 10, 11)</td>\n",
       "      <td>[0.7586206896551724, 0.7407407407407408, 0.758...</td>\n",
       "      <td>0.718263</td>\n",
       "      <td>(high_blood_pressure, anaemia, age, ejection_f...</td>\n",
       "      <td>0.073685</td>\n",
       "      <td>0.057329</td>\n",
       "      <td>0.028665</td>\n",
       "    </tr>\n",
       "    <tr>\n",
       "      <th>656</th>\n",
       "      <td>SVC XY1</td>\n",
       "      <td>(2, 6, 10, 11)</td>\n",
       "      <td>[0.64, 0.64, 0.8275862068965518, 0.75862068965...</td>\n",
       "      <td>0.694981</td>\n",
       "      <td>(diabetes, ejection_fraction, creatinine_phosp...</td>\n",
       "      <td>0.107727</td>\n",
       "      <td>0.083815</td>\n",
       "      <td>0.041908</td>\n",
       "    </tr>\n",
       "    <tr>\n",
       "      <th>1430</th>\n",
       "      <td>LOG XY1</td>\n",
       "      <td>(2, 5, 6, 8, 11)</td>\n",
       "      <td>[0.7200000000000001, 0.7499999999999999, 0.714...</td>\n",
       "      <td>0.68219</td>\n",
       "      <td>(diabetes, age, ejection_fraction, serum_creat...</td>\n",
       "      <td>0.0857</td>\n",
       "      <td>0.066677</td>\n",
       "      <td>0.033339</td>\n",
       "    </tr>\n",
       "    <tr>\n",
       "      <th>3100</th>\n",
       "      <td>GNB XY1</td>\n",
       "      <td>(1, 3, 4, 5, 6, 7, 11)</td>\n",
       "      <td>[0.6666666666666665, 0.64, 0.7741935483870969,...</td>\n",
       "      <td>0.675411</td>\n",
       "      <td>(smoking, high_blood_pressure, anaemia, age, e...</td>\n",
       "      <td>0.071989</td>\n",
       "      <td>0.05601</td>\n",
       "      <td>0.028005</td>\n",
       "    </tr>\n",
       "    <tr>\n",
       "      <th>462</th>\n",
       "      <td>KNN XY1</td>\n",
       "      <td>(0, 9, 10, 11)</td>\n",
       "      <td>[0.6363636363636364, 0.5217391304347827, 0.692...</td>\n",
       "      <td>0.641307</td>\n",
       "      <td>(sex, platelets, creatinine_phosphokinase, time)</td>\n",
       "      <td>0.095287</td>\n",
       "      <td>0.074136</td>\n",
       "      <td>0.037068</td>\n",
       "    </tr>\n",
       "  </tbody>\n",
       "</table>\n",
       "</div>"
      ],
      "text/plain": [
       "       Method              feature_idx  \\\n",
       "3273  SGD XY1  (3, 4, 5, 6, 8, 10, 11)   \n",
       "656   SVC XY1           (2, 6, 10, 11)   \n",
       "1430  LOG XY1         (2, 5, 6, 8, 11)   \n",
       "3100  GNB XY1   (1, 3, 4, 5, 6, 7, 11)   \n",
       "462   KNN XY1           (0, 9, 10, 11)   \n",
       "\n",
       "                                              cv_scores avg_score  \\\n",
       "3273  [0.7586206896551724, 0.7407407407407408, 0.758...  0.718263   \n",
       "656   [0.64, 0.64, 0.8275862068965518, 0.75862068965...  0.694981   \n",
       "1430  [0.7200000000000001, 0.7499999999999999, 0.714...   0.68219   \n",
       "3100  [0.6666666666666665, 0.64, 0.7741935483870969,...  0.675411   \n",
       "462   [0.6363636363636364, 0.5217391304347827, 0.692...  0.641307   \n",
       "\n",
       "                                          feature_names  ci_bound   std_dev  \\\n",
       "3273  (high_blood_pressure, anaemia, age, ejection_f...  0.073685  0.057329   \n",
       "656   (diabetes, ejection_fraction, creatinine_phosp...  0.107727  0.083815   \n",
       "1430  (diabetes, age, ejection_fraction, serum_creat...    0.0857  0.066677   \n",
       "3100  (smoking, high_blood_pressure, anaemia, age, e...  0.071989   0.05601   \n",
       "462    (sex, platelets, creatinine_phosphokinase, time)  0.095287  0.074136   \n",
       "\n",
       "       std_err  \n",
       "3273  0.028665  \n",
       "656   0.041908  \n",
       "1430  0.033339  \n",
       "3100  0.028005  \n",
       "462   0.037068  "
      ]
     },
     "execution_count": 119,
     "metadata": {},
     "output_type": "execute_result"
    }
   ],
   "source": [
    "frames = [LOG1,SGD1,SVC1,KNN1,GNB1]\n",
    "result = pd.concat(frames)\n",
    "result = result.sort_values(by=['avg_score'],ascending=False)\n",
    "result"
   ]
  },
  {
   "cell_type": "code",
   "execution_count": 9,
   "metadata": {},
   "outputs": [],
   "source": [
    "# Manipulate the test data based on optimization table above\n",
    "\n",
    "b1x_trainz = b1x_trainz.drop(b1x_trainz.columns[[0,1,2,7,9]], axis=1)\n",
    "b1x_testz = b1x_testz.drop(b1x_testz.columns[[0,1,2,7,9]], axis=1)"
   ]
  },
  {
   "cell_type": "code",
   "execution_count": 171,
   "metadata": {},
   "outputs": [
    {
     "data": {
      "text/html": [
       "<div>\n",
       "<style scoped>\n",
       "    .dataframe tbody tr th:only-of-type {\n",
       "        vertical-align: middle;\n",
       "    }\n",
       "\n",
       "    .dataframe tbody tr th {\n",
       "        vertical-align: top;\n",
       "    }\n",
       "\n",
       "    .dataframe thead th {\n",
       "        text-align: right;\n",
       "    }\n",
       "</style>\n",
       "<table border=\"1\" class=\"dataframe\">\n",
       "  <thead>\n",
       "    <tr style=\"text-align: right;\">\n",
       "      <th></th>\n",
       "      <th>MCC</th>\n",
       "      <th>F1 score</th>\n",
       "      <th>Accuracy</th>\n",
       "      <th>TP rate</th>\n",
       "      <th>TN rate</th>\n",
       "      <th>PR AUC</th>\n",
       "      <th>ROC AUC</th>\n",
       "    </tr>\n",
       "  </thead>\n",
       "  <tbody>\n",
       "    <tr>\n",
       "      <th>Experimental Model</th>\n",
       "      <td>0.722</td>\n",
       "      <td>0.818</td>\n",
       "      <td>0.867</td>\n",
       "      <td>1.0</td>\n",
       "      <td>0.975</td>\n",
       "      <td>0.708</td>\n",
       "      <td>0.875</td>\n",
       "    </tr>\n",
       "  </tbody>\n",
       "</table>\n",
       "</div>"
      ],
      "text/plain": [
       "                      MCC  F1 score  Accuracy  TP rate  TN rate  PR AUC  \\\n",
       "Experimental Model  0.722     0.818     0.867      1.0    0.975   0.708   \n",
       "\n",
       "                    ROC AUC  \n",
       "Experimental Model    0.875  "
      ]
     },
     "execution_count": 171,
     "metadata": {},
     "output_type": "execute_result"
    }
   ],
   "source": [
    "OGarray = np.empty([0,7],int)\n",
    "\n",
    "for i in range(100):\n",
    "    # run model and get prediction variable\n",
    "    sgd=SGDClassifier()\n",
    "    sgd.fit(b1x_trainz,b1y_trainz)\n",
    "    y_predz=sgd.predict(b1x_testz)\n",
    "\n",
    "    #metrics\n",
    "    n1 = matthews_corrcoef(b1y_testz, y_predz)\n",
    "    n2 = f1_score(b1y_testz, y_predz)\n",
    "    n3 = accuracy_score(b1y_testz, y_predz)\n",
    "    k0 = confusion_matrix(b1y_testz, y_predz)\n",
    "    n4 = TP = k0[1][1] / (k0[1][1]+k0[1][0])\n",
    "    n5 = TN = k0[0][0] / (k0[0][0]+k0[0][1])\n",
    "    n6 = average_precision_score(b1y_testz, y_predz)\n",
    "    n7 = roc_auc_score(b1y_testz,y_predz)\n",
    "    # populate metrics into dataframe\n",
    "    OGarray = np.append(OGarray,np.array([[n1,n2,n3,n4,n5,n6,n7]]), axis=0)\n",
    "\n",
    "# Calculate the mean values of our result array\n",
    "MLmodelx = pd.DataFrame(OGarray)\n",
    "MLmodelx.columns = ['MCC','F1 score','Accuracy','TP rate','TN rate','PR AUC','ROC AUC']\n",
    "MLSumx = MLmodelx.max(axis=0)\n",
    "MLSumx = pd.DataFrame(MLSumx)\n",
    "MLSumx = MLSumx.transpose()\n",
    "\n",
    "# Cleaning up the results\n",
    "MLx = MLSumx.rename(index={0:'Experimental Model'})\n",
    "MLx['MCC']=MLx['MCC'].round(decimals = 3)\n",
    "MLx['F1 score']=MLx['F1 score'].round(decimals = 3)\n",
    "MLx['Accuracy']=MLx['Accuracy'].round(decimals = 3)\n",
    "MLx['TP rate']=MLx['TP rate'].round(decimals = 3)\n",
    "MLx['TN rate']=MLx['TN rate'].round(decimals = 3)\n",
    "MLx['PR AUC']=MLx['PR AUC'].round(decimals = 3)\n",
    "MLx['ROC AUC']=MLx['ROC AUC'].round(decimals = 3)\n",
    "MLx"
   ]
  },
  {
   "cell_type": "code",
   "execution_count": null,
   "metadata": {},
   "outputs": [],
   "source": []
  }
 ],
 "metadata": {
  "kernelspec": {
   "display_name": "Python 3",
   "language": "python",
   "name": "python3"
  },
  "language_info": {
   "codemirror_mode": {
    "name": "ipython",
    "version": 3
   },
   "file_extension": ".py",
   "mimetype": "text/x-python",
   "name": "python",
   "nbconvert_exporter": "python",
   "pygments_lexer": "ipython3",
   "version": "3.7.3"
  }
 },
 "nbformat": 4,
 "nbformat_minor": 2
}
